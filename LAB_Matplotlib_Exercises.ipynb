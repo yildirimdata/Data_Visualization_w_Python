{
 "cells": [
  {
   "cell_type": "markdown",
   "metadata": {},
   "source": [
    "<a id=\"toc\"></a>\n",
    "\n",
    "### <p style=\"background-color:#0D8D99; font-family:newtimeroman; color:#FFF9ED; font-size:175%; text-align:center; border-radius:10px 10px;\">Data Visualization with Python Lab 1<br><br>23 Dec 2022</p>"
   ]
  },
  {
   "cell_type": "markdown",
   "metadata": {
    "id": "xApqx8EfgPvd"
   },
   "source": [
    "![image.png](https://i.ibb.co/4gc0nbk/matplotlib.png)\n",
    "\n",
    "Matplotlib was created by **John D. Hunter,** an American neurobiologist, and was first released in 2002. Since then it has an **active development community** and is distributed under a **BSD-style license.** Matplotlib is a plotting library for the Python programming language and its numerical mathematics extension NumPy [Source](https://en.wikipedia.org/wiki/Matplotlib). Matplotlib is a **low level graph plotting library in python** that serves as a visualization utility. Matplotlib is **open source** and we can use it freely. Matplotlib is mostly written in python, a few segments are written in C, Objective-C and Javascript for Platform compatibility [Source](https://www.w3schools.com/python/matplotlib_intro.asp).\n",
    "\n",
    "Matplotlib is a **two-dimensional (2D) plotting library** for Python. With Matplotlib, you can generate lines, scatter graphs, bar charts, histograms, error bars, etc, and even do simple 3D plots using the mplot3d toolkit. Matplotlib has a module called Pyplot, which provides an interface similar to MatLab. [Photo Credit: fullstackpython](https://www.fullstackpython.com/matplotlib.html)\n",
    "\n",
    "[MATPLOTLIB Source01](https://matplotlib.org/),\n",
    "[MATPLOTLIB Source02](https://www.educative.io/edpresso/what-is-matplotlib),\n",
    "[MATPLOTLIB Source03](https://realpython.com/python-matplotlib-guide/),\n",
    "[MATPLOTLIB Source04](https://jakevdp.github.io/PythonDataScienceHandbook/04.00-introduction-to-matplotlib.html), &\n",
    "[MATPLOTLIB Source05](https://medium.com/@developit19/matplotlib-python-651fd07e9234)"
   ]
  },
  {
   "cell_type": "markdown",
   "metadata": {
    "id": "hCyoafG9gPvh"
   },
   "source": [
    "## <p style=\"background-color:#9d4f8c; font-family:newtimeroman; color:#FFF9ED; font-size:150%; text-align:center; border-radius:10px 10px;\">Importing Libraries</p>"
   ]
  },
  {
   "cell_type": "code",
   "execution_count": 3,
   "metadata": {
    "_cell_guid": "5fdcd462-5466-40f5-9992-dc31a9a174f2",
    "_uuid": "dab5021d92c7210270cec270470e4ae179a1de01",
    "id": "22qiZVq32Zir"
   },
   "outputs": [],
   "source": [
    "import numpy as np \n",
    "import pandas as pd\n",
    "import seaborn as sns\n",
    "import matplotlib.pyplot as plt\n",
    "%matplotlib inline\n",
    "# from collections import Counter\n",
    "import warnings\n",
    "warnings.filterwarnings('ignore')"
   ]
  },
  {
   "cell_type": "markdown",
   "metadata": {},
   "source": [
    "###  % --> ipython magic commands\n",
    "[SOURCE1](https://ipython.readthedocs.io/en/stable/interactive/magics.html)\n",
    "[SOURCE2](https://www.tutorialspoint.com/jupyter/ipython_magic_commands.htm)\n",
    "[SOURCE3](https://jakevdp.github.io/PythonDataScienceHandbook/01.03-magic-commands.html)"
   ]
  },
  {
   "cell_type": "code",
   "execution_count": null,
   "metadata": {},
   "outputs": [],
   "source": [
    "%env"
   ]
  },
  {
   "cell_type": "code",
   "execution_count": 4,
   "metadata": {},
   "outputs": [
    {
     "name": "stdout",
     "output_type": "stream",
     "text": [
      "Available matplotlib backends: ['tk', 'gtk', 'gtk3', 'gtk4', 'wx', 'qt4', 'qt5', 'qt6', 'qt', 'osx', 'nbagg', 'notebook', 'agg', 'svg', 'pdf', 'ps', 'inline', 'ipympl', 'widget']\n"
     ]
    }
   ],
   "source": [
    "%matplotlib -l  # list"
   ]
  },
  {
   "cell_type": "markdown",
   "metadata": {},
   "source": [
    "**\"%matplotlib inline\"** komutu ile ürettiğimiz matplotlib grafiklerini defterin içine gömülü hale gertirebiliyoruz. Böylece notebookumuzdan tam bir belge oluşturabiliyoruz."
   ]
  },
  {
   "cell_type": "code",
   "execution_count": 3,
   "metadata": {},
   "outputs": [
    {
     "data": {
      "application/javascript": [
       "/* Put everything inside the global mpl namespace */\n",
       "/* global mpl */\n",
       "window.mpl = {};\n",
       "\n",
       "mpl.get_websocket_type = function () {\n",
       "    if (typeof WebSocket !== 'undefined') {\n",
       "        return WebSocket;\n",
       "    } else if (typeof MozWebSocket !== 'undefined') {\n",
       "        return MozWebSocket;\n",
       "    } else {\n",
       "        alert(\n",
       "            'Your browser does not have WebSocket support. ' +\n",
       "                'Please try Chrome, Safari or Firefox ≥ 6. ' +\n",
       "                'Firefox 4 and 5 are also supported but you ' +\n",
       "                'have to enable WebSockets in about:config.'\n",
       "        );\n",
       "    }\n",
       "};\n",
       "\n",
       "mpl.figure = function (figure_id, websocket, ondownload, parent_element) {\n",
       "    this.id = figure_id;\n",
       "\n",
       "    this.ws = websocket;\n",
       "\n",
       "    this.supports_binary = this.ws.binaryType !== undefined;\n",
       "\n",
       "    if (!this.supports_binary) {\n",
       "        var warnings = document.getElementById('mpl-warnings');\n",
       "        if (warnings) {\n",
       "            warnings.style.display = 'block';\n",
       "            warnings.textContent =\n",
       "                'This browser does not support binary websocket messages. ' +\n",
       "                'Performance may be slow.';\n",
       "        }\n",
       "    }\n",
       "\n",
       "    this.imageObj = new Image();\n",
       "\n",
       "    this.context = undefined;\n",
       "    this.message = undefined;\n",
       "    this.canvas = undefined;\n",
       "    this.rubberband_canvas = undefined;\n",
       "    this.rubberband_context = undefined;\n",
       "    this.format_dropdown = undefined;\n",
       "\n",
       "    this.image_mode = 'full';\n",
       "\n",
       "    this.root = document.createElement('div');\n",
       "    this.root.setAttribute('style', 'display: inline-block');\n",
       "    this._root_extra_style(this.root);\n",
       "\n",
       "    parent_element.appendChild(this.root);\n",
       "\n",
       "    this._init_header(this);\n",
       "    this._init_canvas(this);\n",
       "    this._init_toolbar(this);\n",
       "\n",
       "    var fig = this;\n",
       "\n",
       "    this.waiting = false;\n",
       "\n",
       "    this.ws.onopen = function () {\n",
       "        fig.send_message('supports_binary', { value: fig.supports_binary });\n",
       "        fig.send_message('send_image_mode', {});\n",
       "        if (fig.ratio !== 1) {\n",
       "            fig.send_message('set_device_pixel_ratio', {\n",
       "                device_pixel_ratio: fig.ratio,\n",
       "            });\n",
       "        }\n",
       "        fig.send_message('refresh', {});\n",
       "    };\n",
       "\n",
       "    this.imageObj.onload = function () {\n",
       "        if (fig.image_mode === 'full') {\n",
       "            // Full images could contain transparency (where diff images\n",
       "            // almost always do), so we need to clear the canvas so that\n",
       "            // there is no ghosting.\n",
       "            fig.context.clearRect(0, 0, fig.canvas.width, fig.canvas.height);\n",
       "        }\n",
       "        fig.context.drawImage(fig.imageObj, 0, 0);\n",
       "    };\n",
       "\n",
       "    this.imageObj.onunload = function () {\n",
       "        fig.ws.close();\n",
       "    };\n",
       "\n",
       "    this.ws.onmessage = this._make_on_message_function(this);\n",
       "\n",
       "    this.ondownload = ondownload;\n",
       "};\n",
       "\n",
       "mpl.figure.prototype._init_header = function () {\n",
       "    var titlebar = document.createElement('div');\n",
       "    titlebar.classList =\n",
       "        'ui-dialog-titlebar ui-widget-header ui-corner-all ui-helper-clearfix';\n",
       "    var titletext = document.createElement('div');\n",
       "    titletext.classList = 'ui-dialog-title';\n",
       "    titletext.setAttribute(\n",
       "        'style',\n",
       "        'width: 100%; text-align: center; padding: 3px;'\n",
       "    );\n",
       "    titlebar.appendChild(titletext);\n",
       "    this.root.appendChild(titlebar);\n",
       "    this.header = titletext;\n",
       "};\n",
       "\n",
       "mpl.figure.prototype._canvas_extra_style = function (_canvas_div) {};\n",
       "\n",
       "mpl.figure.prototype._root_extra_style = function (_canvas_div) {};\n",
       "\n",
       "mpl.figure.prototype._init_canvas = function () {\n",
       "    var fig = this;\n",
       "\n",
       "    var canvas_div = (this.canvas_div = document.createElement('div'));\n",
       "    canvas_div.setAttribute(\n",
       "        'style',\n",
       "        'border: 1px solid #ddd;' +\n",
       "            'box-sizing: content-box;' +\n",
       "            'clear: both;' +\n",
       "            'min-height: 1px;' +\n",
       "            'min-width: 1px;' +\n",
       "            'outline: 0;' +\n",
       "            'overflow: hidden;' +\n",
       "            'position: relative;' +\n",
       "            'resize: both;'\n",
       "    );\n",
       "\n",
       "    function on_keyboard_event_closure(name) {\n",
       "        return function (event) {\n",
       "            return fig.key_event(event, name);\n",
       "        };\n",
       "    }\n",
       "\n",
       "    canvas_div.addEventListener(\n",
       "        'keydown',\n",
       "        on_keyboard_event_closure('key_press')\n",
       "    );\n",
       "    canvas_div.addEventListener(\n",
       "        'keyup',\n",
       "        on_keyboard_event_closure('key_release')\n",
       "    );\n",
       "\n",
       "    this._canvas_extra_style(canvas_div);\n",
       "    this.root.appendChild(canvas_div);\n",
       "\n",
       "    var canvas = (this.canvas = document.createElement('canvas'));\n",
       "    canvas.classList.add('mpl-canvas');\n",
       "    canvas.setAttribute('style', 'box-sizing: content-box;');\n",
       "\n",
       "    this.context = canvas.getContext('2d');\n",
       "\n",
       "    var backingStore =\n",
       "        this.context.backingStorePixelRatio ||\n",
       "        this.context.webkitBackingStorePixelRatio ||\n",
       "        this.context.mozBackingStorePixelRatio ||\n",
       "        this.context.msBackingStorePixelRatio ||\n",
       "        this.context.oBackingStorePixelRatio ||\n",
       "        this.context.backingStorePixelRatio ||\n",
       "        1;\n",
       "\n",
       "    this.ratio = (window.devicePixelRatio || 1) / backingStore;\n",
       "\n",
       "    var rubberband_canvas = (this.rubberband_canvas = document.createElement(\n",
       "        'canvas'\n",
       "    ));\n",
       "    rubberband_canvas.setAttribute(\n",
       "        'style',\n",
       "        'box-sizing: content-box; position: absolute; left: 0; top: 0; z-index: 1;'\n",
       "    );\n",
       "\n",
       "    // Apply a ponyfill if ResizeObserver is not implemented by browser.\n",
       "    if (this.ResizeObserver === undefined) {\n",
       "        if (window.ResizeObserver !== undefined) {\n",
       "            this.ResizeObserver = window.ResizeObserver;\n",
       "        } else {\n",
       "            var obs = _JSXTOOLS_RESIZE_OBSERVER({});\n",
       "            this.ResizeObserver = obs.ResizeObserver;\n",
       "        }\n",
       "    }\n",
       "\n",
       "    this.resizeObserverInstance = new this.ResizeObserver(function (entries) {\n",
       "        var nentries = entries.length;\n",
       "        for (var i = 0; i < nentries; i++) {\n",
       "            var entry = entries[i];\n",
       "            var width, height;\n",
       "            if (entry.contentBoxSize) {\n",
       "                if (entry.contentBoxSize instanceof Array) {\n",
       "                    // Chrome 84 implements new version of spec.\n",
       "                    width = entry.contentBoxSize[0].inlineSize;\n",
       "                    height = entry.contentBoxSize[0].blockSize;\n",
       "                } else {\n",
       "                    // Firefox implements old version of spec.\n",
       "                    width = entry.contentBoxSize.inlineSize;\n",
       "                    height = entry.contentBoxSize.blockSize;\n",
       "                }\n",
       "            } else {\n",
       "                // Chrome <84 implements even older version of spec.\n",
       "                width = entry.contentRect.width;\n",
       "                height = entry.contentRect.height;\n",
       "            }\n",
       "\n",
       "            // Keep the size of the canvas and rubber band canvas in sync with\n",
       "            // the canvas container.\n",
       "            if (entry.devicePixelContentBoxSize) {\n",
       "                // Chrome 84 implements new version of spec.\n",
       "                canvas.setAttribute(\n",
       "                    'width',\n",
       "                    entry.devicePixelContentBoxSize[0].inlineSize\n",
       "                );\n",
       "                canvas.setAttribute(\n",
       "                    'height',\n",
       "                    entry.devicePixelContentBoxSize[0].blockSize\n",
       "                );\n",
       "            } else {\n",
       "                canvas.setAttribute('width', width * fig.ratio);\n",
       "                canvas.setAttribute('height', height * fig.ratio);\n",
       "            }\n",
       "            canvas.setAttribute(\n",
       "                'style',\n",
       "                'width: ' + width + 'px; height: ' + height + 'px;'\n",
       "            );\n",
       "\n",
       "            rubberband_canvas.setAttribute('width', width);\n",
       "            rubberband_canvas.setAttribute('height', height);\n",
       "\n",
       "            // And update the size in Python. We ignore the initial 0/0 size\n",
       "            // that occurs as the element is placed into the DOM, which should\n",
       "            // otherwise not happen due to the minimum size styling.\n",
       "            if (fig.ws.readyState == 1 && width != 0 && height != 0) {\n",
       "                fig.request_resize(width, height);\n",
       "            }\n",
       "        }\n",
       "    });\n",
       "    this.resizeObserverInstance.observe(canvas_div);\n",
       "\n",
       "    function on_mouse_event_closure(name) {\n",
       "        return function (event) {\n",
       "            return fig.mouse_event(event, name);\n",
       "        };\n",
       "    }\n",
       "\n",
       "    rubberband_canvas.addEventListener(\n",
       "        'mousedown',\n",
       "        on_mouse_event_closure('button_press')\n",
       "    );\n",
       "    rubberband_canvas.addEventListener(\n",
       "        'mouseup',\n",
       "        on_mouse_event_closure('button_release')\n",
       "    );\n",
       "    rubberband_canvas.addEventListener(\n",
       "        'dblclick',\n",
       "        on_mouse_event_closure('dblclick')\n",
       "    );\n",
       "    // Throttle sequential mouse events to 1 every 20ms.\n",
       "    rubberband_canvas.addEventListener(\n",
       "        'mousemove',\n",
       "        on_mouse_event_closure('motion_notify')\n",
       "    );\n",
       "\n",
       "    rubberband_canvas.addEventListener(\n",
       "        'mouseenter',\n",
       "        on_mouse_event_closure('figure_enter')\n",
       "    );\n",
       "    rubberband_canvas.addEventListener(\n",
       "        'mouseleave',\n",
       "        on_mouse_event_closure('figure_leave')\n",
       "    );\n",
       "\n",
       "    canvas_div.addEventListener('wheel', function (event) {\n",
       "        if (event.deltaY < 0) {\n",
       "            event.step = 1;\n",
       "        } else {\n",
       "            event.step = -1;\n",
       "        }\n",
       "        on_mouse_event_closure('scroll')(event);\n",
       "    });\n",
       "\n",
       "    canvas_div.appendChild(canvas);\n",
       "    canvas_div.appendChild(rubberband_canvas);\n",
       "\n",
       "    this.rubberband_context = rubberband_canvas.getContext('2d');\n",
       "    this.rubberband_context.strokeStyle = '#000000';\n",
       "\n",
       "    this._resize_canvas = function (width, height, forward) {\n",
       "        if (forward) {\n",
       "            canvas_div.style.width = width + 'px';\n",
       "            canvas_div.style.height = height + 'px';\n",
       "        }\n",
       "    };\n",
       "\n",
       "    // Disable right mouse context menu.\n",
       "    this.rubberband_canvas.addEventListener('contextmenu', function (_e) {\n",
       "        event.preventDefault();\n",
       "        return false;\n",
       "    });\n",
       "\n",
       "    function set_focus() {\n",
       "        canvas.focus();\n",
       "        canvas_div.focus();\n",
       "    }\n",
       "\n",
       "    window.setTimeout(set_focus, 100);\n",
       "};\n",
       "\n",
       "mpl.figure.prototype._init_toolbar = function () {\n",
       "    var fig = this;\n",
       "\n",
       "    var toolbar = document.createElement('div');\n",
       "    toolbar.classList = 'mpl-toolbar';\n",
       "    this.root.appendChild(toolbar);\n",
       "\n",
       "    function on_click_closure(name) {\n",
       "        return function (_event) {\n",
       "            return fig.toolbar_button_onclick(name);\n",
       "        };\n",
       "    }\n",
       "\n",
       "    function on_mouseover_closure(tooltip) {\n",
       "        return function (event) {\n",
       "            if (!event.currentTarget.disabled) {\n",
       "                return fig.toolbar_button_onmouseover(tooltip);\n",
       "            }\n",
       "        };\n",
       "    }\n",
       "\n",
       "    fig.buttons = {};\n",
       "    var buttonGroup = document.createElement('div');\n",
       "    buttonGroup.classList = 'mpl-button-group';\n",
       "    for (var toolbar_ind in mpl.toolbar_items) {\n",
       "        var name = mpl.toolbar_items[toolbar_ind][0];\n",
       "        var tooltip = mpl.toolbar_items[toolbar_ind][1];\n",
       "        var image = mpl.toolbar_items[toolbar_ind][2];\n",
       "        var method_name = mpl.toolbar_items[toolbar_ind][3];\n",
       "\n",
       "        if (!name) {\n",
       "            /* Instead of a spacer, we start a new button group. */\n",
       "            if (buttonGroup.hasChildNodes()) {\n",
       "                toolbar.appendChild(buttonGroup);\n",
       "            }\n",
       "            buttonGroup = document.createElement('div');\n",
       "            buttonGroup.classList = 'mpl-button-group';\n",
       "            continue;\n",
       "        }\n",
       "\n",
       "        var button = (fig.buttons[name] = document.createElement('button'));\n",
       "        button.classList = 'mpl-widget';\n",
       "        button.setAttribute('role', 'button');\n",
       "        button.setAttribute('aria-disabled', 'false');\n",
       "        button.addEventListener('click', on_click_closure(method_name));\n",
       "        button.addEventListener('mouseover', on_mouseover_closure(tooltip));\n",
       "\n",
       "        var icon_img = document.createElement('img');\n",
       "        icon_img.src = '_images/' + image + '.png';\n",
       "        icon_img.srcset = '_images/' + image + '_large.png 2x';\n",
       "        icon_img.alt = tooltip;\n",
       "        button.appendChild(icon_img);\n",
       "\n",
       "        buttonGroup.appendChild(button);\n",
       "    }\n",
       "\n",
       "    if (buttonGroup.hasChildNodes()) {\n",
       "        toolbar.appendChild(buttonGroup);\n",
       "    }\n",
       "\n",
       "    var fmt_picker = document.createElement('select');\n",
       "    fmt_picker.classList = 'mpl-widget';\n",
       "    toolbar.appendChild(fmt_picker);\n",
       "    this.format_dropdown = fmt_picker;\n",
       "\n",
       "    for (var ind in mpl.extensions) {\n",
       "        var fmt = mpl.extensions[ind];\n",
       "        var option = document.createElement('option');\n",
       "        option.selected = fmt === mpl.default_extension;\n",
       "        option.innerHTML = fmt;\n",
       "        fmt_picker.appendChild(option);\n",
       "    }\n",
       "\n",
       "    var status_bar = document.createElement('span');\n",
       "    status_bar.classList = 'mpl-message';\n",
       "    toolbar.appendChild(status_bar);\n",
       "    this.message = status_bar;\n",
       "};\n",
       "\n",
       "mpl.figure.prototype.request_resize = function (x_pixels, y_pixels) {\n",
       "    // Request matplotlib to resize the figure. Matplotlib will then trigger a resize in the client,\n",
       "    // which will in turn request a refresh of the image.\n",
       "    this.send_message('resize', { width: x_pixels, height: y_pixels });\n",
       "};\n",
       "\n",
       "mpl.figure.prototype.send_message = function (type, properties) {\n",
       "    properties['type'] = type;\n",
       "    properties['figure_id'] = this.id;\n",
       "    this.ws.send(JSON.stringify(properties));\n",
       "};\n",
       "\n",
       "mpl.figure.prototype.send_draw_message = function () {\n",
       "    if (!this.waiting) {\n",
       "        this.waiting = true;\n",
       "        this.ws.send(JSON.stringify({ type: 'draw', figure_id: this.id }));\n",
       "    }\n",
       "};\n",
       "\n",
       "mpl.figure.prototype.handle_save = function (fig, _msg) {\n",
       "    var format_dropdown = fig.format_dropdown;\n",
       "    var format = format_dropdown.options[format_dropdown.selectedIndex].value;\n",
       "    fig.ondownload(fig, format);\n",
       "};\n",
       "\n",
       "mpl.figure.prototype.handle_resize = function (fig, msg) {\n",
       "    var size = msg['size'];\n",
       "    if (size[0] !== fig.canvas.width || size[1] !== fig.canvas.height) {\n",
       "        fig._resize_canvas(size[0], size[1], msg['forward']);\n",
       "        fig.send_message('refresh', {});\n",
       "    }\n",
       "};\n",
       "\n",
       "mpl.figure.prototype.handle_rubberband = function (fig, msg) {\n",
       "    var x0 = msg['x0'] / fig.ratio;\n",
       "    var y0 = (fig.canvas.height - msg['y0']) / fig.ratio;\n",
       "    var x1 = msg['x1'] / fig.ratio;\n",
       "    var y1 = (fig.canvas.height - msg['y1']) / fig.ratio;\n",
       "    x0 = Math.floor(x0) + 0.5;\n",
       "    y0 = Math.floor(y0) + 0.5;\n",
       "    x1 = Math.floor(x1) + 0.5;\n",
       "    y1 = Math.floor(y1) + 0.5;\n",
       "    var min_x = Math.min(x0, x1);\n",
       "    var min_y = Math.min(y0, y1);\n",
       "    var width = Math.abs(x1 - x0);\n",
       "    var height = Math.abs(y1 - y0);\n",
       "\n",
       "    fig.rubberband_context.clearRect(\n",
       "        0,\n",
       "        0,\n",
       "        fig.canvas.width / fig.ratio,\n",
       "        fig.canvas.height / fig.ratio\n",
       "    );\n",
       "\n",
       "    fig.rubberband_context.strokeRect(min_x, min_y, width, height);\n",
       "};\n",
       "\n",
       "mpl.figure.prototype.handle_figure_label = function (fig, msg) {\n",
       "    // Updates the figure title.\n",
       "    fig.header.textContent = msg['label'];\n",
       "};\n",
       "\n",
       "mpl.figure.prototype.handle_cursor = function (fig, msg) {\n",
       "    fig.rubberband_canvas.style.cursor = msg['cursor'];\n",
       "};\n",
       "\n",
       "mpl.figure.prototype.handle_message = function (fig, msg) {\n",
       "    fig.message.textContent = msg['message'];\n",
       "};\n",
       "\n",
       "mpl.figure.prototype.handle_draw = function (fig, _msg) {\n",
       "    // Request the server to send over a new figure.\n",
       "    fig.send_draw_message();\n",
       "};\n",
       "\n",
       "mpl.figure.prototype.handle_image_mode = function (fig, msg) {\n",
       "    fig.image_mode = msg['mode'];\n",
       "};\n",
       "\n",
       "mpl.figure.prototype.handle_history_buttons = function (fig, msg) {\n",
       "    for (var key in msg) {\n",
       "        if (!(key in fig.buttons)) {\n",
       "            continue;\n",
       "        }\n",
       "        fig.buttons[key].disabled = !msg[key];\n",
       "        fig.buttons[key].setAttribute('aria-disabled', !msg[key]);\n",
       "    }\n",
       "};\n",
       "\n",
       "mpl.figure.prototype.handle_navigate_mode = function (fig, msg) {\n",
       "    if (msg['mode'] === 'PAN') {\n",
       "        fig.buttons['Pan'].classList.add('active');\n",
       "        fig.buttons['Zoom'].classList.remove('active');\n",
       "    } else if (msg['mode'] === 'ZOOM') {\n",
       "        fig.buttons['Pan'].classList.remove('active');\n",
       "        fig.buttons['Zoom'].classList.add('active');\n",
       "    } else {\n",
       "        fig.buttons['Pan'].classList.remove('active');\n",
       "        fig.buttons['Zoom'].classList.remove('active');\n",
       "    }\n",
       "};\n",
       "\n",
       "mpl.figure.prototype.updated_canvas_event = function () {\n",
       "    // Called whenever the canvas gets updated.\n",
       "    this.send_message('ack', {});\n",
       "};\n",
       "\n",
       "// A function to construct a web socket function for onmessage handling.\n",
       "// Called in the figure constructor.\n",
       "mpl.figure.prototype._make_on_message_function = function (fig) {\n",
       "    return function socket_on_message(evt) {\n",
       "        if (evt.data instanceof Blob) {\n",
       "            var img = evt.data;\n",
       "            if (img.type !== 'image/png') {\n",
       "                /* FIXME: We get \"Resource interpreted as Image but\n",
       "                 * transferred with MIME type text/plain:\" errors on\n",
       "                 * Chrome.  But how to set the MIME type?  It doesn't seem\n",
       "                 * to be part of the websocket stream */\n",
       "                img.type = 'image/png';\n",
       "            }\n",
       "\n",
       "            /* Free the memory for the previous frames */\n",
       "            if (fig.imageObj.src) {\n",
       "                (window.URL || window.webkitURL).revokeObjectURL(\n",
       "                    fig.imageObj.src\n",
       "                );\n",
       "            }\n",
       "\n",
       "            fig.imageObj.src = (window.URL || window.webkitURL).createObjectURL(\n",
       "                img\n",
       "            );\n",
       "            fig.updated_canvas_event();\n",
       "            fig.waiting = false;\n",
       "            return;\n",
       "        } else if (\n",
       "            typeof evt.data === 'string' &&\n",
       "            evt.data.slice(0, 21) === 'data:image/png;base64'\n",
       "        ) {\n",
       "            fig.imageObj.src = evt.data;\n",
       "            fig.updated_canvas_event();\n",
       "            fig.waiting = false;\n",
       "            return;\n",
       "        }\n",
       "\n",
       "        var msg = JSON.parse(evt.data);\n",
       "        var msg_type = msg['type'];\n",
       "\n",
       "        // Call the  \"handle_{type}\" callback, which takes\n",
       "        // the figure and JSON message as its only arguments.\n",
       "        try {\n",
       "            var callback = fig['handle_' + msg_type];\n",
       "        } catch (e) {\n",
       "            console.log(\n",
       "                \"No handler for the '\" + msg_type + \"' message type: \",\n",
       "                msg\n",
       "            );\n",
       "            return;\n",
       "        }\n",
       "\n",
       "        if (callback) {\n",
       "            try {\n",
       "                // console.log(\"Handling '\" + msg_type + \"' message: \", msg);\n",
       "                callback(fig, msg);\n",
       "            } catch (e) {\n",
       "                console.log(\n",
       "                    \"Exception inside the 'handler_\" + msg_type + \"' callback:\",\n",
       "                    e,\n",
       "                    e.stack,\n",
       "                    msg\n",
       "                );\n",
       "            }\n",
       "        }\n",
       "    };\n",
       "};\n",
       "\n",
       "// from https://stackoverflow.com/questions/1114465/getting-mouse-location-in-canvas\n",
       "mpl.findpos = function (e) {\n",
       "    //this section is from http://www.quirksmode.org/js/events_properties.html\n",
       "    var targ;\n",
       "    if (!e) {\n",
       "        e = window.event;\n",
       "    }\n",
       "    if (e.target) {\n",
       "        targ = e.target;\n",
       "    } else if (e.srcElement) {\n",
       "        targ = e.srcElement;\n",
       "    }\n",
       "    if (targ.nodeType === 3) {\n",
       "        // defeat Safari bug\n",
       "        targ = targ.parentNode;\n",
       "    }\n",
       "\n",
       "    // pageX,Y are the mouse positions relative to the document\n",
       "    var boundingRect = targ.getBoundingClientRect();\n",
       "    var x = e.pageX - (boundingRect.left + document.body.scrollLeft);\n",
       "    var y = e.pageY - (boundingRect.top + document.body.scrollTop);\n",
       "\n",
       "    return { x: x, y: y };\n",
       "};\n",
       "\n",
       "/*\n",
       " * return a copy of an object with only non-object keys\n",
       " * we need this to avoid circular references\n",
       " * https://stackoverflow.com/a/24161582/3208463\n",
       " */\n",
       "function simpleKeys(original) {\n",
       "    return Object.keys(original).reduce(function (obj, key) {\n",
       "        if (typeof original[key] !== 'object') {\n",
       "            obj[key] = original[key];\n",
       "        }\n",
       "        return obj;\n",
       "    }, {});\n",
       "}\n",
       "\n",
       "mpl.figure.prototype.mouse_event = function (event, name) {\n",
       "    var canvas_pos = mpl.findpos(event);\n",
       "\n",
       "    if (name === 'button_press') {\n",
       "        this.canvas.focus();\n",
       "        this.canvas_div.focus();\n",
       "    }\n",
       "\n",
       "    var x = canvas_pos.x * this.ratio;\n",
       "    var y = canvas_pos.y * this.ratio;\n",
       "\n",
       "    this.send_message(name, {\n",
       "        x: x,\n",
       "        y: y,\n",
       "        button: event.button,\n",
       "        step: event.step,\n",
       "        guiEvent: simpleKeys(event),\n",
       "    });\n",
       "\n",
       "    /* This prevents the web browser from automatically changing to\n",
       "     * the text insertion cursor when the button is pressed.  We want\n",
       "     * to control all of the cursor setting manually through the\n",
       "     * 'cursor' event from matplotlib */\n",
       "    event.preventDefault();\n",
       "    return false;\n",
       "};\n",
       "\n",
       "mpl.figure.prototype._key_event_extra = function (_event, _name) {\n",
       "    // Handle any extra behaviour associated with a key event\n",
       "};\n",
       "\n",
       "mpl.figure.prototype.key_event = function (event, name) {\n",
       "    // Prevent repeat events\n",
       "    if (name === 'key_press') {\n",
       "        if (event.key === this._key) {\n",
       "            return;\n",
       "        } else {\n",
       "            this._key = event.key;\n",
       "        }\n",
       "    }\n",
       "    if (name === 'key_release') {\n",
       "        this._key = null;\n",
       "    }\n",
       "\n",
       "    var value = '';\n",
       "    if (event.ctrlKey && event.key !== 'Control') {\n",
       "        value += 'ctrl+';\n",
       "    }\n",
       "    else if (event.altKey && event.key !== 'Alt') {\n",
       "        value += 'alt+';\n",
       "    }\n",
       "    else if (event.shiftKey && event.key !== 'Shift') {\n",
       "        value += 'shift+';\n",
       "    }\n",
       "\n",
       "    value += 'k' + event.key;\n",
       "\n",
       "    this._key_event_extra(event, name);\n",
       "\n",
       "    this.send_message(name, { key: value, guiEvent: simpleKeys(event) });\n",
       "    return false;\n",
       "};\n",
       "\n",
       "mpl.figure.prototype.toolbar_button_onclick = function (name) {\n",
       "    if (name === 'download') {\n",
       "        this.handle_save(this, null);\n",
       "    } else {\n",
       "        this.send_message('toolbar_button', { name: name });\n",
       "    }\n",
       "};\n",
       "\n",
       "mpl.figure.prototype.toolbar_button_onmouseover = function (tooltip) {\n",
       "    this.message.textContent = tooltip;\n",
       "};\n",
       "\n",
       "///////////////// REMAINING CONTENT GENERATED BY embed_js.py /////////////////\n",
       "// prettier-ignore\n",
       "var _JSXTOOLS_RESIZE_OBSERVER=function(A){var t,i=new WeakMap,n=new WeakMap,a=new WeakMap,r=new WeakMap,o=new Set;function s(e){if(!(this instanceof s))throw new TypeError(\"Constructor requires 'new' operator\");i.set(this,e)}function h(){throw new TypeError(\"Function is not a constructor\")}function c(e,t,i,n){e=0 in arguments?Number(arguments[0]):0,t=1 in arguments?Number(arguments[1]):0,i=2 in arguments?Number(arguments[2]):0,n=3 in arguments?Number(arguments[3]):0,this.right=(this.x=this.left=e)+(this.width=i),this.bottom=(this.y=this.top=t)+(this.height=n),Object.freeze(this)}function d(){t=requestAnimationFrame(d);var s=new WeakMap,p=new Set;o.forEach((function(t){r.get(t).forEach((function(i){var r=t instanceof window.SVGElement,o=a.get(t),d=r?0:parseFloat(o.paddingTop),f=r?0:parseFloat(o.paddingRight),l=r?0:parseFloat(o.paddingBottom),u=r?0:parseFloat(o.paddingLeft),g=r?0:parseFloat(o.borderTopWidth),m=r?0:parseFloat(o.borderRightWidth),w=r?0:parseFloat(o.borderBottomWidth),b=u+f,F=d+l,v=(r?0:parseFloat(o.borderLeftWidth))+m,W=g+w,y=r?0:t.offsetHeight-W-t.clientHeight,E=r?0:t.offsetWidth-v-t.clientWidth,R=b+v,z=F+W,M=r?t.width:parseFloat(o.width)-R-E,O=r?t.height:parseFloat(o.height)-z-y;if(n.has(t)){var k=n.get(t);if(k[0]===M&&k[1]===O)return}n.set(t,[M,O]);var S=Object.create(h.prototype);S.target=t,S.contentRect=new c(u,d,M,O),s.has(i)||(s.set(i,[]),p.add(i)),s.get(i).push(S)}))})),p.forEach((function(e){i.get(e).call(e,s.get(e),e)}))}return s.prototype.observe=function(i){if(i instanceof window.Element){r.has(i)||(r.set(i,new Set),o.add(i),a.set(i,window.getComputedStyle(i)));var n=r.get(i);n.has(this)||n.add(this),cancelAnimationFrame(t),t=requestAnimationFrame(d)}},s.prototype.unobserve=function(i){if(i instanceof window.Element&&r.has(i)){var n=r.get(i);n.has(this)&&(n.delete(this),n.size||(r.delete(i),o.delete(i))),n.size||r.delete(i),o.size||cancelAnimationFrame(t)}},A.DOMRectReadOnly=c,A.ResizeObserver=s,A.ResizeObserverEntry=h,A}; // eslint-disable-line\n",
       "mpl.toolbar_items = [[\"Home\", \"Reset original view\", \"fa fa-home icon-home\", \"home\"], [\"Back\", \"Back to previous view\", \"fa fa-arrow-left icon-arrow-left\", \"back\"], [\"Forward\", \"Forward to next view\", \"fa fa-arrow-right icon-arrow-right\", \"forward\"], [\"\", \"\", \"\", \"\"], [\"Pan\", \"Left button pans, Right button zooms\\nx/y fixes axis, CTRL fixes aspect\", \"fa fa-arrows icon-move\", \"pan\"], [\"Zoom\", \"Zoom to rectangle\\nx/y fixes axis\", \"fa fa-square-o icon-check-empty\", \"zoom\"], [\"\", \"\", \"\", \"\"], [\"Download\", \"Download plot\", \"fa fa-floppy-o icon-save\", \"download\"]];\n",
       "\n",
       "mpl.extensions = [\"eps\", \"jpeg\", \"pgf\", \"pdf\", \"png\", \"ps\", \"raw\", \"svg\", \"tif\"];\n",
       "\n",
       "mpl.default_extension = \"png\";/* global mpl */\n",
       "\n",
       "var comm_websocket_adapter = function (comm) {\n",
       "    // Create a \"websocket\"-like object which calls the given IPython comm\n",
       "    // object with the appropriate methods. Currently this is a non binary\n",
       "    // socket, so there is still some room for performance tuning.\n",
       "    var ws = {};\n",
       "\n",
       "    ws.binaryType = comm.kernel.ws.binaryType;\n",
       "    ws.readyState = comm.kernel.ws.readyState;\n",
       "    function updateReadyState(_event) {\n",
       "        if (comm.kernel.ws) {\n",
       "            ws.readyState = comm.kernel.ws.readyState;\n",
       "        } else {\n",
       "            ws.readyState = 3; // Closed state.\n",
       "        }\n",
       "    }\n",
       "    comm.kernel.ws.addEventListener('open', updateReadyState);\n",
       "    comm.kernel.ws.addEventListener('close', updateReadyState);\n",
       "    comm.kernel.ws.addEventListener('error', updateReadyState);\n",
       "\n",
       "    ws.close = function () {\n",
       "        comm.close();\n",
       "    };\n",
       "    ws.send = function (m) {\n",
       "        //console.log('sending', m);\n",
       "        comm.send(m);\n",
       "    };\n",
       "    // Register the callback with on_msg.\n",
       "    comm.on_msg(function (msg) {\n",
       "        //console.log('receiving', msg['content']['data'], msg);\n",
       "        var data = msg['content']['data'];\n",
       "        if (data['blob'] !== undefined) {\n",
       "            data = {\n",
       "                data: new Blob(msg['buffers'], { type: data['blob'] }),\n",
       "            };\n",
       "        }\n",
       "        // Pass the mpl event to the overridden (by mpl) onmessage function.\n",
       "        ws.onmessage(data);\n",
       "    });\n",
       "    return ws;\n",
       "};\n",
       "\n",
       "mpl.mpl_figure_comm = function (comm, msg) {\n",
       "    // This is the function which gets called when the mpl process\n",
       "    // starts-up an IPython Comm through the \"matplotlib\" channel.\n",
       "\n",
       "    var id = msg.content.data.id;\n",
       "    // Get hold of the div created by the display call when the Comm\n",
       "    // socket was opened in Python.\n",
       "    var element = document.getElementById(id);\n",
       "    var ws_proxy = comm_websocket_adapter(comm);\n",
       "\n",
       "    function ondownload(figure, _format) {\n",
       "        window.open(figure.canvas.toDataURL());\n",
       "    }\n",
       "\n",
       "    var fig = new mpl.figure(id, ws_proxy, ondownload, element);\n",
       "\n",
       "    // Call onopen now - mpl needs it, as it is assuming we've passed it a real\n",
       "    // web socket which is closed, not our websocket->open comm proxy.\n",
       "    ws_proxy.onopen();\n",
       "\n",
       "    fig.parent_element = element;\n",
       "    fig.cell_info = mpl.find_output_cell(\"<div id='\" + id + \"'></div>\");\n",
       "    if (!fig.cell_info) {\n",
       "        console.error('Failed to find cell for figure', id, fig);\n",
       "        return;\n",
       "    }\n",
       "    fig.cell_info[0].output_area.element.on(\n",
       "        'cleared',\n",
       "        { fig: fig },\n",
       "        fig._remove_fig_handler\n",
       "    );\n",
       "};\n",
       "\n",
       "mpl.figure.prototype.handle_close = function (fig, msg) {\n",
       "    var width = fig.canvas.width / fig.ratio;\n",
       "    fig.cell_info[0].output_area.element.off(\n",
       "        'cleared',\n",
       "        fig._remove_fig_handler\n",
       "    );\n",
       "    fig.resizeObserverInstance.unobserve(fig.canvas_div);\n",
       "\n",
       "    // Update the output cell to use the data from the current canvas.\n",
       "    fig.push_to_output();\n",
       "    var dataURL = fig.canvas.toDataURL();\n",
       "    // Re-enable the keyboard manager in IPython - without this line, in FF,\n",
       "    // the notebook keyboard shortcuts fail.\n",
       "    IPython.keyboard_manager.enable();\n",
       "    fig.parent_element.innerHTML =\n",
       "        '<img src=\"' + dataURL + '\" width=\"' + width + '\">';\n",
       "    fig.close_ws(fig, msg);\n",
       "};\n",
       "\n",
       "mpl.figure.prototype.close_ws = function (fig, msg) {\n",
       "    fig.send_message('closing', msg);\n",
       "    // fig.ws.close()\n",
       "};\n",
       "\n",
       "mpl.figure.prototype.push_to_output = function (_remove_interactive) {\n",
       "    // Turn the data on the canvas into data in the output cell.\n",
       "    var width = this.canvas.width / this.ratio;\n",
       "    var dataURL = this.canvas.toDataURL();\n",
       "    this.cell_info[1]['text/html'] =\n",
       "        '<img src=\"' + dataURL + '\" width=\"' + width + '\">';\n",
       "};\n",
       "\n",
       "mpl.figure.prototype.updated_canvas_event = function () {\n",
       "    // Tell IPython that the notebook contents must change.\n",
       "    IPython.notebook.set_dirty(true);\n",
       "    this.send_message('ack', {});\n",
       "    var fig = this;\n",
       "    // Wait a second, then push the new image to the DOM so\n",
       "    // that it is saved nicely (might be nice to debounce this).\n",
       "    setTimeout(function () {\n",
       "        fig.push_to_output();\n",
       "    }, 1000);\n",
       "};\n",
       "\n",
       "mpl.figure.prototype._init_toolbar = function () {\n",
       "    var fig = this;\n",
       "\n",
       "    var toolbar = document.createElement('div');\n",
       "    toolbar.classList = 'btn-toolbar';\n",
       "    this.root.appendChild(toolbar);\n",
       "\n",
       "    function on_click_closure(name) {\n",
       "        return function (_event) {\n",
       "            return fig.toolbar_button_onclick(name);\n",
       "        };\n",
       "    }\n",
       "\n",
       "    function on_mouseover_closure(tooltip) {\n",
       "        return function (event) {\n",
       "            if (!event.currentTarget.disabled) {\n",
       "                return fig.toolbar_button_onmouseover(tooltip);\n",
       "            }\n",
       "        };\n",
       "    }\n",
       "\n",
       "    fig.buttons = {};\n",
       "    var buttonGroup = document.createElement('div');\n",
       "    buttonGroup.classList = 'btn-group';\n",
       "    var button;\n",
       "    for (var toolbar_ind in mpl.toolbar_items) {\n",
       "        var name = mpl.toolbar_items[toolbar_ind][0];\n",
       "        var tooltip = mpl.toolbar_items[toolbar_ind][1];\n",
       "        var image = mpl.toolbar_items[toolbar_ind][2];\n",
       "        var method_name = mpl.toolbar_items[toolbar_ind][3];\n",
       "\n",
       "        if (!name) {\n",
       "            /* Instead of a spacer, we start a new button group. */\n",
       "            if (buttonGroup.hasChildNodes()) {\n",
       "                toolbar.appendChild(buttonGroup);\n",
       "            }\n",
       "            buttonGroup = document.createElement('div');\n",
       "            buttonGroup.classList = 'btn-group';\n",
       "            continue;\n",
       "        }\n",
       "\n",
       "        button = fig.buttons[name] = document.createElement('button');\n",
       "        button.classList = 'btn btn-default';\n",
       "        button.href = '#';\n",
       "        button.title = name;\n",
       "        button.innerHTML = '<i class=\"fa ' + image + ' fa-lg\"></i>';\n",
       "        button.addEventListener('click', on_click_closure(method_name));\n",
       "        button.addEventListener('mouseover', on_mouseover_closure(tooltip));\n",
       "        buttonGroup.appendChild(button);\n",
       "    }\n",
       "\n",
       "    if (buttonGroup.hasChildNodes()) {\n",
       "        toolbar.appendChild(buttonGroup);\n",
       "    }\n",
       "\n",
       "    // Add the status bar.\n",
       "    var status_bar = document.createElement('span');\n",
       "    status_bar.classList = 'mpl-message pull-right';\n",
       "    toolbar.appendChild(status_bar);\n",
       "    this.message = status_bar;\n",
       "\n",
       "    // Add the close button to the window.\n",
       "    var buttongrp = document.createElement('div');\n",
       "    buttongrp.classList = 'btn-group inline pull-right';\n",
       "    button = document.createElement('button');\n",
       "    button.classList = 'btn btn-mini btn-primary';\n",
       "    button.href = '#';\n",
       "    button.title = 'Stop Interaction';\n",
       "    button.innerHTML = '<i class=\"fa fa-power-off icon-remove icon-large\"></i>';\n",
       "    button.addEventListener('click', function (_evt) {\n",
       "        fig.handle_close(fig, {});\n",
       "    });\n",
       "    button.addEventListener(\n",
       "        'mouseover',\n",
       "        on_mouseover_closure('Stop Interaction')\n",
       "    );\n",
       "    buttongrp.appendChild(button);\n",
       "    var titlebar = this.root.querySelector('.ui-dialog-titlebar');\n",
       "    titlebar.insertBefore(buttongrp, titlebar.firstChild);\n",
       "};\n",
       "\n",
       "mpl.figure.prototype._remove_fig_handler = function (event) {\n",
       "    var fig = event.data.fig;\n",
       "    if (event.target !== this) {\n",
       "        // Ignore bubbled events from children.\n",
       "        return;\n",
       "    }\n",
       "    fig.close_ws(fig, {});\n",
       "};\n",
       "\n",
       "mpl.figure.prototype._root_extra_style = function (el) {\n",
       "    el.style.boxSizing = 'content-box'; // override notebook setting of border-box.\n",
       "};\n",
       "\n",
       "mpl.figure.prototype._canvas_extra_style = function (el) {\n",
       "    // this is important to make the div 'focusable\n",
       "    el.setAttribute('tabindex', 0);\n",
       "    // reach out to IPython and tell the keyboard manager to turn it's self\n",
       "    // off when our div gets focus\n",
       "\n",
       "    // location in version 3\n",
       "    if (IPython.notebook.keyboard_manager) {\n",
       "        IPython.notebook.keyboard_manager.register_events(el);\n",
       "    } else {\n",
       "        // location in version 2\n",
       "        IPython.keyboard_manager.register_events(el);\n",
       "    }\n",
       "};\n",
       "\n",
       "mpl.figure.prototype._key_event_extra = function (event, _name) {\n",
       "    // Check for shift+enter\n",
       "    if (event.shiftKey && event.which === 13) {\n",
       "        this.canvas_div.blur();\n",
       "        // select the cell after this one\n",
       "        var index = IPython.notebook.find_cell_index(this.cell_info[0]);\n",
       "        IPython.notebook.select(index + 1);\n",
       "    }\n",
       "};\n",
       "\n",
       "mpl.figure.prototype.handle_save = function (fig, _msg) {\n",
       "    fig.ondownload(fig, null);\n",
       "};\n",
       "\n",
       "mpl.find_output_cell = function (html_output) {\n",
       "    // Return the cell and output element which can be found *uniquely* in the notebook.\n",
       "    // Note - this is a bit hacky, but it is done because the \"notebook_saving.Notebook\"\n",
       "    // IPython event is triggered only after the cells have been serialised, which for\n",
       "    // our purposes (turning an active figure into a static one), is too late.\n",
       "    var cells = IPython.notebook.get_cells();\n",
       "    var ncells = cells.length;\n",
       "    for (var i = 0; i < ncells; i++) {\n",
       "        var cell = cells[i];\n",
       "        if (cell.cell_type === 'code') {\n",
       "            for (var j = 0; j < cell.output_area.outputs.length; j++) {\n",
       "                var data = cell.output_area.outputs[j];\n",
       "                if (data.data) {\n",
       "                    // IPython >= 3 moved mimebundle to data attribute of output\n",
       "                    data = data.data;\n",
       "                }\n",
       "                if (data['text/html'] === html_output) {\n",
       "                    return [cell, data, j];\n",
       "                }\n",
       "            }\n",
       "        }\n",
       "    }\n",
       "};\n",
       "\n",
       "// Register the function which deals with the matplotlib target/channel.\n",
       "// The kernel may be null if the page has been refreshed.\n",
       "if (IPython.notebook.kernel !== null) {\n",
       "    IPython.notebook.kernel.comm_manager.register_target(\n",
       "        'matplotlib',\n",
       "        mpl.mpl_figure_comm\n",
       "    );\n",
       "}\n"
      ],
      "text/plain": [
       "<IPython.core.display.Javascript object>"
      ]
     },
     "metadata": {},
     "output_type": "display_data"
    },
    {
     "data": {
      "text/html": [
       "<img src=\"data:image/png;base64,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\" width=\"432\">"
      ],
      "text/plain": [
       "<IPython.core.display.HTML object>"
      ]
     },
     "metadata": {},
     "output_type": "display_data"
    }
   ],
   "source": [
    "%matplotlib notebook\n",
    "\n",
    "x = np.linspace(-20,20,100)\n",
    "y = np.sin(x)/x\n",
    "plt.plot(x,y);"
   ]
  },
  {
   "cell_type": "markdown",
   "metadata": {},
   "source": [
    "**NOT: \"pylab\" sub-modülü ile linspace, sin gibi numpy fonksiyonlarını matplotlib kütüphanesi ile kullanabilirsiniz:**"
   ]
  },
  {
   "cell_type": "code",
   "execution_count": 4,
   "metadata": {},
   "outputs": [
    {
     "data": {
      "application/javascript": [
       "/* Put everything inside the global mpl namespace */\n",
       "/* global mpl */\n",
       "window.mpl = {};\n",
       "\n",
       "mpl.get_websocket_type = function () {\n",
       "    if (typeof WebSocket !== 'undefined') {\n",
       "        return WebSocket;\n",
       "    } else if (typeof MozWebSocket !== 'undefined') {\n",
       "        return MozWebSocket;\n",
       "    } else {\n",
       "        alert(\n",
       "            'Your browser does not have WebSocket support. ' +\n",
       "                'Please try Chrome, Safari or Firefox ≥ 6. ' +\n",
       "                'Firefox 4 and 5 are also supported but you ' +\n",
       "                'have to enable WebSockets in about:config.'\n",
       "        );\n",
       "    }\n",
       "};\n",
       "\n",
       "mpl.figure = function (figure_id, websocket, ondownload, parent_element) {\n",
       "    this.id = figure_id;\n",
       "\n",
       "    this.ws = websocket;\n",
       "\n",
       "    this.supports_binary = this.ws.binaryType !== undefined;\n",
       "\n",
       "    if (!this.supports_binary) {\n",
       "        var warnings = document.getElementById('mpl-warnings');\n",
       "        if (warnings) {\n",
       "            warnings.style.display = 'block';\n",
       "            warnings.textContent =\n",
       "                'This browser does not support binary websocket messages. ' +\n",
       "                'Performance may be slow.';\n",
       "        }\n",
       "    }\n",
       "\n",
       "    this.imageObj = new Image();\n",
       "\n",
       "    this.context = undefined;\n",
       "    this.message = undefined;\n",
       "    this.canvas = undefined;\n",
       "    this.rubberband_canvas = undefined;\n",
       "    this.rubberband_context = undefined;\n",
       "    this.format_dropdown = undefined;\n",
       "\n",
       "    this.image_mode = 'full';\n",
       "\n",
       "    this.root = document.createElement('div');\n",
       "    this.root.setAttribute('style', 'display: inline-block');\n",
       "    this._root_extra_style(this.root);\n",
       "\n",
       "    parent_element.appendChild(this.root);\n",
       "\n",
       "    this._init_header(this);\n",
       "    this._init_canvas(this);\n",
       "    this._init_toolbar(this);\n",
       "\n",
       "    var fig = this;\n",
       "\n",
       "    this.waiting = false;\n",
       "\n",
       "    this.ws.onopen = function () {\n",
       "        fig.send_message('supports_binary', { value: fig.supports_binary });\n",
       "        fig.send_message('send_image_mode', {});\n",
       "        if (fig.ratio !== 1) {\n",
       "            fig.send_message('set_device_pixel_ratio', {\n",
       "                device_pixel_ratio: fig.ratio,\n",
       "            });\n",
       "        }\n",
       "        fig.send_message('refresh', {});\n",
       "    };\n",
       "\n",
       "    this.imageObj.onload = function () {\n",
       "        if (fig.image_mode === 'full') {\n",
       "            // Full images could contain transparency (where diff images\n",
       "            // almost always do), so we need to clear the canvas so that\n",
       "            // there is no ghosting.\n",
       "            fig.context.clearRect(0, 0, fig.canvas.width, fig.canvas.height);\n",
       "        }\n",
       "        fig.context.drawImage(fig.imageObj, 0, 0);\n",
       "    };\n",
       "\n",
       "    this.imageObj.onunload = function () {\n",
       "        fig.ws.close();\n",
       "    };\n",
       "\n",
       "    this.ws.onmessage = this._make_on_message_function(this);\n",
       "\n",
       "    this.ondownload = ondownload;\n",
       "};\n",
       "\n",
       "mpl.figure.prototype._init_header = function () {\n",
       "    var titlebar = document.createElement('div');\n",
       "    titlebar.classList =\n",
       "        'ui-dialog-titlebar ui-widget-header ui-corner-all ui-helper-clearfix';\n",
       "    var titletext = document.createElement('div');\n",
       "    titletext.classList = 'ui-dialog-title';\n",
       "    titletext.setAttribute(\n",
       "        'style',\n",
       "        'width: 100%; text-align: center; padding: 3px;'\n",
       "    );\n",
       "    titlebar.appendChild(titletext);\n",
       "    this.root.appendChild(titlebar);\n",
       "    this.header = titletext;\n",
       "};\n",
       "\n",
       "mpl.figure.prototype._canvas_extra_style = function (_canvas_div) {};\n",
       "\n",
       "mpl.figure.prototype._root_extra_style = function (_canvas_div) {};\n",
       "\n",
       "mpl.figure.prototype._init_canvas = function () {\n",
       "    var fig = this;\n",
       "\n",
       "    var canvas_div = (this.canvas_div = document.createElement('div'));\n",
       "    canvas_div.setAttribute(\n",
       "        'style',\n",
       "        'border: 1px solid #ddd;' +\n",
       "            'box-sizing: content-box;' +\n",
       "            'clear: both;' +\n",
       "            'min-height: 1px;' +\n",
       "            'min-width: 1px;' +\n",
       "            'outline: 0;' +\n",
       "            'overflow: hidden;' +\n",
       "            'position: relative;' +\n",
       "            'resize: both;'\n",
       "    );\n",
       "\n",
       "    function on_keyboard_event_closure(name) {\n",
       "        return function (event) {\n",
       "            return fig.key_event(event, name);\n",
       "        };\n",
       "    }\n",
       "\n",
       "    canvas_div.addEventListener(\n",
       "        'keydown',\n",
       "        on_keyboard_event_closure('key_press')\n",
       "    );\n",
       "    canvas_div.addEventListener(\n",
       "        'keyup',\n",
       "        on_keyboard_event_closure('key_release')\n",
       "    );\n",
       "\n",
       "    this._canvas_extra_style(canvas_div);\n",
       "    this.root.appendChild(canvas_div);\n",
       "\n",
       "    var canvas = (this.canvas = document.createElement('canvas'));\n",
       "    canvas.classList.add('mpl-canvas');\n",
       "    canvas.setAttribute('style', 'box-sizing: content-box;');\n",
       "\n",
       "    this.context = canvas.getContext('2d');\n",
       "\n",
       "    var backingStore =\n",
       "        this.context.backingStorePixelRatio ||\n",
       "        this.context.webkitBackingStorePixelRatio ||\n",
       "        this.context.mozBackingStorePixelRatio ||\n",
       "        this.context.msBackingStorePixelRatio ||\n",
       "        this.context.oBackingStorePixelRatio ||\n",
       "        this.context.backingStorePixelRatio ||\n",
       "        1;\n",
       "\n",
       "    this.ratio = (window.devicePixelRatio || 1) / backingStore;\n",
       "\n",
       "    var rubberband_canvas = (this.rubberband_canvas = document.createElement(\n",
       "        'canvas'\n",
       "    ));\n",
       "    rubberband_canvas.setAttribute(\n",
       "        'style',\n",
       "        'box-sizing: content-box; position: absolute; left: 0; top: 0; z-index: 1;'\n",
       "    );\n",
       "\n",
       "    // Apply a ponyfill if ResizeObserver is not implemented by browser.\n",
       "    if (this.ResizeObserver === undefined) {\n",
       "        if (window.ResizeObserver !== undefined) {\n",
       "            this.ResizeObserver = window.ResizeObserver;\n",
       "        } else {\n",
       "            var obs = _JSXTOOLS_RESIZE_OBSERVER({});\n",
       "            this.ResizeObserver = obs.ResizeObserver;\n",
       "        }\n",
       "    }\n",
       "\n",
       "    this.resizeObserverInstance = new this.ResizeObserver(function (entries) {\n",
       "        var nentries = entries.length;\n",
       "        for (var i = 0; i < nentries; i++) {\n",
       "            var entry = entries[i];\n",
       "            var width, height;\n",
       "            if (entry.contentBoxSize) {\n",
       "                if (entry.contentBoxSize instanceof Array) {\n",
       "                    // Chrome 84 implements new version of spec.\n",
       "                    width = entry.contentBoxSize[0].inlineSize;\n",
       "                    height = entry.contentBoxSize[0].blockSize;\n",
       "                } else {\n",
       "                    // Firefox implements old version of spec.\n",
       "                    width = entry.contentBoxSize.inlineSize;\n",
       "                    height = entry.contentBoxSize.blockSize;\n",
       "                }\n",
       "            } else {\n",
       "                // Chrome <84 implements even older version of spec.\n",
       "                width = entry.contentRect.width;\n",
       "                height = entry.contentRect.height;\n",
       "            }\n",
       "\n",
       "            // Keep the size of the canvas and rubber band canvas in sync with\n",
       "            // the canvas container.\n",
       "            if (entry.devicePixelContentBoxSize) {\n",
       "                // Chrome 84 implements new version of spec.\n",
       "                canvas.setAttribute(\n",
       "                    'width',\n",
       "                    entry.devicePixelContentBoxSize[0].inlineSize\n",
       "                );\n",
       "                canvas.setAttribute(\n",
       "                    'height',\n",
       "                    entry.devicePixelContentBoxSize[0].blockSize\n",
       "                );\n",
       "            } else {\n",
       "                canvas.setAttribute('width', width * fig.ratio);\n",
       "                canvas.setAttribute('height', height * fig.ratio);\n",
       "            }\n",
       "            canvas.setAttribute(\n",
       "                'style',\n",
       "                'width: ' + width + 'px; height: ' + height + 'px;'\n",
       "            );\n",
       "\n",
       "            rubberband_canvas.setAttribute('width', width);\n",
       "            rubberband_canvas.setAttribute('height', height);\n",
       "\n",
       "            // And update the size in Python. We ignore the initial 0/0 size\n",
       "            // that occurs as the element is placed into the DOM, which should\n",
       "            // otherwise not happen due to the minimum size styling.\n",
       "            if (fig.ws.readyState == 1 && width != 0 && height != 0) {\n",
       "                fig.request_resize(width, height);\n",
       "            }\n",
       "        }\n",
       "    });\n",
       "    this.resizeObserverInstance.observe(canvas_div);\n",
       "\n",
       "    function on_mouse_event_closure(name) {\n",
       "        return function (event) {\n",
       "            return fig.mouse_event(event, name);\n",
       "        };\n",
       "    }\n",
       "\n",
       "    rubberband_canvas.addEventListener(\n",
       "        'mousedown',\n",
       "        on_mouse_event_closure('button_press')\n",
       "    );\n",
       "    rubberband_canvas.addEventListener(\n",
       "        'mouseup',\n",
       "        on_mouse_event_closure('button_release')\n",
       "    );\n",
       "    rubberband_canvas.addEventListener(\n",
       "        'dblclick',\n",
       "        on_mouse_event_closure('dblclick')\n",
       "    );\n",
       "    // Throttle sequential mouse events to 1 every 20ms.\n",
       "    rubberband_canvas.addEventListener(\n",
       "        'mousemove',\n",
       "        on_mouse_event_closure('motion_notify')\n",
       "    );\n",
       "\n",
       "    rubberband_canvas.addEventListener(\n",
       "        'mouseenter',\n",
       "        on_mouse_event_closure('figure_enter')\n",
       "    );\n",
       "    rubberband_canvas.addEventListener(\n",
       "        'mouseleave',\n",
       "        on_mouse_event_closure('figure_leave')\n",
       "    );\n",
       "\n",
       "    canvas_div.addEventListener('wheel', function (event) {\n",
       "        if (event.deltaY < 0) {\n",
       "            event.step = 1;\n",
       "        } else {\n",
       "            event.step = -1;\n",
       "        }\n",
       "        on_mouse_event_closure('scroll')(event);\n",
       "    });\n",
       "\n",
       "    canvas_div.appendChild(canvas);\n",
       "    canvas_div.appendChild(rubberband_canvas);\n",
       "\n",
       "    this.rubberband_context = rubberband_canvas.getContext('2d');\n",
       "    this.rubberband_context.strokeStyle = '#000000';\n",
       "\n",
       "    this._resize_canvas = function (width, height, forward) {\n",
       "        if (forward) {\n",
       "            canvas_div.style.width = width + 'px';\n",
       "            canvas_div.style.height = height + 'px';\n",
       "        }\n",
       "    };\n",
       "\n",
       "    // Disable right mouse context menu.\n",
       "    this.rubberband_canvas.addEventListener('contextmenu', function (_e) {\n",
       "        event.preventDefault();\n",
       "        return false;\n",
       "    });\n",
       "\n",
       "    function set_focus() {\n",
       "        canvas.focus();\n",
       "        canvas_div.focus();\n",
       "    }\n",
       "\n",
       "    window.setTimeout(set_focus, 100);\n",
       "};\n",
       "\n",
       "mpl.figure.prototype._init_toolbar = function () {\n",
       "    var fig = this;\n",
       "\n",
       "    var toolbar = document.createElement('div');\n",
       "    toolbar.classList = 'mpl-toolbar';\n",
       "    this.root.appendChild(toolbar);\n",
       "\n",
       "    function on_click_closure(name) {\n",
       "        return function (_event) {\n",
       "            return fig.toolbar_button_onclick(name);\n",
       "        };\n",
       "    }\n",
       "\n",
       "    function on_mouseover_closure(tooltip) {\n",
       "        return function (event) {\n",
       "            if (!event.currentTarget.disabled) {\n",
       "                return fig.toolbar_button_onmouseover(tooltip);\n",
       "            }\n",
       "        };\n",
       "    }\n",
       "\n",
       "    fig.buttons = {};\n",
       "    var buttonGroup = document.createElement('div');\n",
       "    buttonGroup.classList = 'mpl-button-group';\n",
       "    for (var toolbar_ind in mpl.toolbar_items) {\n",
       "        var name = mpl.toolbar_items[toolbar_ind][0];\n",
       "        var tooltip = mpl.toolbar_items[toolbar_ind][1];\n",
       "        var image = mpl.toolbar_items[toolbar_ind][2];\n",
       "        var method_name = mpl.toolbar_items[toolbar_ind][3];\n",
       "\n",
       "        if (!name) {\n",
       "            /* Instead of a spacer, we start a new button group. */\n",
       "            if (buttonGroup.hasChildNodes()) {\n",
       "                toolbar.appendChild(buttonGroup);\n",
       "            }\n",
       "            buttonGroup = document.createElement('div');\n",
       "            buttonGroup.classList = 'mpl-button-group';\n",
       "            continue;\n",
       "        }\n",
       "\n",
       "        var button = (fig.buttons[name] = document.createElement('button'));\n",
       "        button.classList = 'mpl-widget';\n",
       "        button.setAttribute('role', 'button');\n",
       "        button.setAttribute('aria-disabled', 'false');\n",
       "        button.addEventListener('click', on_click_closure(method_name));\n",
       "        button.addEventListener('mouseover', on_mouseover_closure(tooltip));\n",
       "\n",
       "        var icon_img = document.createElement('img');\n",
       "        icon_img.src = '_images/' + image + '.png';\n",
       "        icon_img.srcset = '_images/' + image + '_large.png 2x';\n",
       "        icon_img.alt = tooltip;\n",
       "        button.appendChild(icon_img);\n",
       "\n",
       "        buttonGroup.appendChild(button);\n",
       "    }\n",
       "\n",
       "    if (buttonGroup.hasChildNodes()) {\n",
       "        toolbar.appendChild(buttonGroup);\n",
       "    }\n",
       "\n",
       "    var fmt_picker = document.createElement('select');\n",
       "    fmt_picker.classList = 'mpl-widget';\n",
       "    toolbar.appendChild(fmt_picker);\n",
       "    this.format_dropdown = fmt_picker;\n",
       "\n",
       "    for (var ind in mpl.extensions) {\n",
       "        var fmt = mpl.extensions[ind];\n",
       "        var option = document.createElement('option');\n",
       "        option.selected = fmt === mpl.default_extension;\n",
       "        option.innerHTML = fmt;\n",
       "        fmt_picker.appendChild(option);\n",
       "    }\n",
       "\n",
       "    var status_bar = document.createElement('span');\n",
       "    status_bar.classList = 'mpl-message';\n",
       "    toolbar.appendChild(status_bar);\n",
       "    this.message = status_bar;\n",
       "};\n",
       "\n",
       "mpl.figure.prototype.request_resize = function (x_pixels, y_pixels) {\n",
       "    // Request matplotlib to resize the figure. Matplotlib will then trigger a resize in the client,\n",
       "    // which will in turn request a refresh of the image.\n",
       "    this.send_message('resize', { width: x_pixels, height: y_pixels });\n",
       "};\n",
       "\n",
       "mpl.figure.prototype.send_message = function (type, properties) {\n",
       "    properties['type'] = type;\n",
       "    properties['figure_id'] = this.id;\n",
       "    this.ws.send(JSON.stringify(properties));\n",
       "};\n",
       "\n",
       "mpl.figure.prototype.send_draw_message = function () {\n",
       "    if (!this.waiting) {\n",
       "        this.waiting = true;\n",
       "        this.ws.send(JSON.stringify({ type: 'draw', figure_id: this.id }));\n",
       "    }\n",
       "};\n",
       "\n",
       "mpl.figure.prototype.handle_save = function (fig, _msg) {\n",
       "    var format_dropdown = fig.format_dropdown;\n",
       "    var format = format_dropdown.options[format_dropdown.selectedIndex].value;\n",
       "    fig.ondownload(fig, format);\n",
       "};\n",
       "\n",
       "mpl.figure.prototype.handle_resize = function (fig, msg) {\n",
       "    var size = msg['size'];\n",
       "    if (size[0] !== fig.canvas.width || size[1] !== fig.canvas.height) {\n",
       "        fig._resize_canvas(size[0], size[1], msg['forward']);\n",
       "        fig.send_message('refresh', {});\n",
       "    }\n",
       "};\n",
       "\n",
       "mpl.figure.prototype.handle_rubberband = function (fig, msg) {\n",
       "    var x0 = msg['x0'] / fig.ratio;\n",
       "    var y0 = (fig.canvas.height - msg['y0']) / fig.ratio;\n",
       "    var x1 = msg['x1'] / fig.ratio;\n",
       "    var y1 = (fig.canvas.height - msg['y1']) / fig.ratio;\n",
       "    x0 = Math.floor(x0) + 0.5;\n",
       "    y0 = Math.floor(y0) + 0.5;\n",
       "    x1 = Math.floor(x1) + 0.5;\n",
       "    y1 = Math.floor(y1) + 0.5;\n",
       "    var min_x = Math.min(x0, x1);\n",
       "    var min_y = Math.min(y0, y1);\n",
       "    var width = Math.abs(x1 - x0);\n",
       "    var height = Math.abs(y1 - y0);\n",
       "\n",
       "    fig.rubberband_context.clearRect(\n",
       "        0,\n",
       "        0,\n",
       "        fig.canvas.width / fig.ratio,\n",
       "        fig.canvas.height / fig.ratio\n",
       "    );\n",
       "\n",
       "    fig.rubberband_context.strokeRect(min_x, min_y, width, height);\n",
       "};\n",
       "\n",
       "mpl.figure.prototype.handle_figure_label = function (fig, msg) {\n",
       "    // Updates the figure title.\n",
       "    fig.header.textContent = msg['label'];\n",
       "};\n",
       "\n",
       "mpl.figure.prototype.handle_cursor = function (fig, msg) {\n",
       "    fig.rubberband_canvas.style.cursor = msg['cursor'];\n",
       "};\n",
       "\n",
       "mpl.figure.prototype.handle_message = function (fig, msg) {\n",
       "    fig.message.textContent = msg['message'];\n",
       "};\n",
       "\n",
       "mpl.figure.prototype.handle_draw = function (fig, _msg) {\n",
       "    // Request the server to send over a new figure.\n",
       "    fig.send_draw_message();\n",
       "};\n",
       "\n",
       "mpl.figure.prototype.handle_image_mode = function (fig, msg) {\n",
       "    fig.image_mode = msg['mode'];\n",
       "};\n",
       "\n",
       "mpl.figure.prototype.handle_history_buttons = function (fig, msg) {\n",
       "    for (var key in msg) {\n",
       "        if (!(key in fig.buttons)) {\n",
       "            continue;\n",
       "        }\n",
       "        fig.buttons[key].disabled = !msg[key];\n",
       "        fig.buttons[key].setAttribute('aria-disabled', !msg[key]);\n",
       "    }\n",
       "};\n",
       "\n",
       "mpl.figure.prototype.handle_navigate_mode = function (fig, msg) {\n",
       "    if (msg['mode'] === 'PAN') {\n",
       "        fig.buttons['Pan'].classList.add('active');\n",
       "        fig.buttons['Zoom'].classList.remove('active');\n",
       "    } else if (msg['mode'] === 'ZOOM') {\n",
       "        fig.buttons['Pan'].classList.remove('active');\n",
       "        fig.buttons['Zoom'].classList.add('active');\n",
       "    } else {\n",
       "        fig.buttons['Pan'].classList.remove('active');\n",
       "        fig.buttons['Zoom'].classList.remove('active');\n",
       "    }\n",
       "};\n",
       "\n",
       "mpl.figure.prototype.updated_canvas_event = function () {\n",
       "    // Called whenever the canvas gets updated.\n",
       "    this.send_message('ack', {});\n",
       "};\n",
       "\n",
       "// A function to construct a web socket function for onmessage handling.\n",
       "// Called in the figure constructor.\n",
       "mpl.figure.prototype._make_on_message_function = function (fig) {\n",
       "    return function socket_on_message(evt) {\n",
       "        if (evt.data instanceof Blob) {\n",
       "            var img = evt.data;\n",
       "            if (img.type !== 'image/png') {\n",
       "                /* FIXME: We get \"Resource interpreted as Image but\n",
       "                 * transferred with MIME type text/plain:\" errors on\n",
       "                 * Chrome.  But how to set the MIME type?  It doesn't seem\n",
       "                 * to be part of the websocket stream */\n",
       "                img.type = 'image/png';\n",
       "            }\n",
       "\n",
       "            /* Free the memory for the previous frames */\n",
       "            if (fig.imageObj.src) {\n",
       "                (window.URL || window.webkitURL).revokeObjectURL(\n",
       "                    fig.imageObj.src\n",
       "                );\n",
       "            }\n",
       "\n",
       "            fig.imageObj.src = (window.URL || window.webkitURL).createObjectURL(\n",
       "                img\n",
       "            );\n",
       "            fig.updated_canvas_event();\n",
       "            fig.waiting = false;\n",
       "            return;\n",
       "        } else if (\n",
       "            typeof evt.data === 'string' &&\n",
       "            evt.data.slice(0, 21) === 'data:image/png;base64'\n",
       "        ) {\n",
       "            fig.imageObj.src = evt.data;\n",
       "            fig.updated_canvas_event();\n",
       "            fig.waiting = false;\n",
       "            return;\n",
       "        }\n",
       "\n",
       "        var msg = JSON.parse(evt.data);\n",
       "        var msg_type = msg['type'];\n",
       "\n",
       "        // Call the  \"handle_{type}\" callback, which takes\n",
       "        // the figure and JSON message as its only arguments.\n",
       "        try {\n",
       "            var callback = fig['handle_' + msg_type];\n",
       "        } catch (e) {\n",
       "            console.log(\n",
       "                \"No handler for the '\" + msg_type + \"' message type: \",\n",
       "                msg\n",
       "            );\n",
       "            return;\n",
       "        }\n",
       "\n",
       "        if (callback) {\n",
       "            try {\n",
       "                // console.log(\"Handling '\" + msg_type + \"' message: \", msg);\n",
       "                callback(fig, msg);\n",
       "            } catch (e) {\n",
       "                console.log(\n",
       "                    \"Exception inside the 'handler_\" + msg_type + \"' callback:\",\n",
       "                    e,\n",
       "                    e.stack,\n",
       "                    msg\n",
       "                );\n",
       "            }\n",
       "        }\n",
       "    };\n",
       "};\n",
       "\n",
       "// from https://stackoverflow.com/questions/1114465/getting-mouse-location-in-canvas\n",
       "mpl.findpos = function (e) {\n",
       "    //this section is from http://www.quirksmode.org/js/events_properties.html\n",
       "    var targ;\n",
       "    if (!e) {\n",
       "        e = window.event;\n",
       "    }\n",
       "    if (e.target) {\n",
       "        targ = e.target;\n",
       "    } else if (e.srcElement) {\n",
       "        targ = e.srcElement;\n",
       "    }\n",
       "    if (targ.nodeType === 3) {\n",
       "        // defeat Safari bug\n",
       "        targ = targ.parentNode;\n",
       "    }\n",
       "\n",
       "    // pageX,Y are the mouse positions relative to the document\n",
       "    var boundingRect = targ.getBoundingClientRect();\n",
       "    var x = e.pageX - (boundingRect.left + document.body.scrollLeft);\n",
       "    var y = e.pageY - (boundingRect.top + document.body.scrollTop);\n",
       "\n",
       "    return { x: x, y: y };\n",
       "};\n",
       "\n",
       "/*\n",
       " * return a copy of an object with only non-object keys\n",
       " * we need this to avoid circular references\n",
       " * https://stackoverflow.com/a/24161582/3208463\n",
       " */\n",
       "function simpleKeys(original) {\n",
       "    return Object.keys(original).reduce(function (obj, key) {\n",
       "        if (typeof original[key] !== 'object') {\n",
       "            obj[key] = original[key];\n",
       "        }\n",
       "        return obj;\n",
       "    }, {});\n",
       "}\n",
       "\n",
       "mpl.figure.prototype.mouse_event = function (event, name) {\n",
       "    var canvas_pos = mpl.findpos(event);\n",
       "\n",
       "    if (name === 'button_press') {\n",
       "        this.canvas.focus();\n",
       "        this.canvas_div.focus();\n",
       "    }\n",
       "\n",
       "    var x = canvas_pos.x * this.ratio;\n",
       "    var y = canvas_pos.y * this.ratio;\n",
       "\n",
       "    this.send_message(name, {\n",
       "        x: x,\n",
       "        y: y,\n",
       "        button: event.button,\n",
       "        step: event.step,\n",
       "        guiEvent: simpleKeys(event),\n",
       "    });\n",
       "\n",
       "    /* This prevents the web browser from automatically changing to\n",
       "     * the text insertion cursor when the button is pressed.  We want\n",
       "     * to control all of the cursor setting manually through the\n",
       "     * 'cursor' event from matplotlib */\n",
       "    event.preventDefault();\n",
       "    return false;\n",
       "};\n",
       "\n",
       "mpl.figure.prototype._key_event_extra = function (_event, _name) {\n",
       "    // Handle any extra behaviour associated with a key event\n",
       "};\n",
       "\n",
       "mpl.figure.prototype.key_event = function (event, name) {\n",
       "    // Prevent repeat events\n",
       "    if (name === 'key_press') {\n",
       "        if (event.key === this._key) {\n",
       "            return;\n",
       "        } else {\n",
       "            this._key = event.key;\n",
       "        }\n",
       "    }\n",
       "    if (name === 'key_release') {\n",
       "        this._key = null;\n",
       "    }\n",
       "\n",
       "    var value = '';\n",
       "    if (event.ctrlKey && event.key !== 'Control') {\n",
       "        value += 'ctrl+';\n",
       "    }\n",
       "    else if (event.altKey && event.key !== 'Alt') {\n",
       "        value += 'alt+';\n",
       "    }\n",
       "    else if (event.shiftKey && event.key !== 'Shift') {\n",
       "        value += 'shift+';\n",
       "    }\n",
       "\n",
       "    value += 'k' + event.key;\n",
       "\n",
       "    this._key_event_extra(event, name);\n",
       "\n",
       "    this.send_message(name, { key: value, guiEvent: simpleKeys(event) });\n",
       "    return false;\n",
       "};\n",
       "\n",
       "mpl.figure.prototype.toolbar_button_onclick = function (name) {\n",
       "    if (name === 'download') {\n",
       "        this.handle_save(this, null);\n",
       "    } else {\n",
       "        this.send_message('toolbar_button', { name: name });\n",
       "    }\n",
       "};\n",
       "\n",
       "mpl.figure.prototype.toolbar_button_onmouseover = function (tooltip) {\n",
       "    this.message.textContent = tooltip;\n",
       "};\n",
       "\n",
       "///////////////// REMAINING CONTENT GENERATED BY embed_js.py /////////////////\n",
       "// prettier-ignore\n",
       "var _JSXTOOLS_RESIZE_OBSERVER=function(A){var t,i=new WeakMap,n=new WeakMap,a=new WeakMap,r=new WeakMap,o=new Set;function s(e){if(!(this instanceof s))throw new TypeError(\"Constructor requires 'new' operator\");i.set(this,e)}function h(){throw new TypeError(\"Function is not a constructor\")}function c(e,t,i,n){e=0 in arguments?Number(arguments[0]):0,t=1 in arguments?Number(arguments[1]):0,i=2 in arguments?Number(arguments[2]):0,n=3 in arguments?Number(arguments[3]):0,this.right=(this.x=this.left=e)+(this.width=i),this.bottom=(this.y=this.top=t)+(this.height=n),Object.freeze(this)}function d(){t=requestAnimationFrame(d);var s=new WeakMap,p=new Set;o.forEach((function(t){r.get(t).forEach((function(i){var r=t instanceof window.SVGElement,o=a.get(t),d=r?0:parseFloat(o.paddingTop),f=r?0:parseFloat(o.paddingRight),l=r?0:parseFloat(o.paddingBottom),u=r?0:parseFloat(o.paddingLeft),g=r?0:parseFloat(o.borderTopWidth),m=r?0:parseFloat(o.borderRightWidth),w=r?0:parseFloat(o.borderBottomWidth),b=u+f,F=d+l,v=(r?0:parseFloat(o.borderLeftWidth))+m,W=g+w,y=r?0:t.offsetHeight-W-t.clientHeight,E=r?0:t.offsetWidth-v-t.clientWidth,R=b+v,z=F+W,M=r?t.width:parseFloat(o.width)-R-E,O=r?t.height:parseFloat(o.height)-z-y;if(n.has(t)){var k=n.get(t);if(k[0]===M&&k[1]===O)return}n.set(t,[M,O]);var S=Object.create(h.prototype);S.target=t,S.contentRect=new c(u,d,M,O),s.has(i)||(s.set(i,[]),p.add(i)),s.get(i).push(S)}))})),p.forEach((function(e){i.get(e).call(e,s.get(e),e)}))}return s.prototype.observe=function(i){if(i instanceof window.Element){r.has(i)||(r.set(i,new Set),o.add(i),a.set(i,window.getComputedStyle(i)));var n=r.get(i);n.has(this)||n.add(this),cancelAnimationFrame(t),t=requestAnimationFrame(d)}},s.prototype.unobserve=function(i){if(i instanceof window.Element&&r.has(i)){var n=r.get(i);n.has(this)&&(n.delete(this),n.size||(r.delete(i),o.delete(i))),n.size||r.delete(i),o.size||cancelAnimationFrame(t)}},A.DOMRectReadOnly=c,A.ResizeObserver=s,A.ResizeObserverEntry=h,A}; // eslint-disable-line\n",
       "mpl.toolbar_items = [[\"Home\", \"Reset original view\", \"fa fa-home icon-home\", \"home\"], [\"Back\", \"Back to previous view\", \"fa fa-arrow-left icon-arrow-left\", \"back\"], [\"Forward\", \"Forward to next view\", \"fa fa-arrow-right icon-arrow-right\", \"forward\"], [\"\", \"\", \"\", \"\"], [\"Pan\", \"Left button pans, Right button zooms\\nx/y fixes axis, CTRL fixes aspect\", \"fa fa-arrows icon-move\", \"pan\"], [\"Zoom\", \"Zoom to rectangle\\nx/y fixes axis\", \"fa fa-square-o icon-check-empty\", \"zoom\"], [\"\", \"\", \"\", \"\"], [\"Download\", \"Download plot\", \"fa fa-floppy-o icon-save\", \"download\"]];\n",
       "\n",
       "mpl.extensions = [\"eps\", \"jpeg\", \"pgf\", \"pdf\", \"png\", \"ps\", \"raw\", \"svg\", \"tif\"];\n",
       "\n",
       "mpl.default_extension = \"png\";/* global mpl */\n",
       "\n",
       "var comm_websocket_adapter = function (comm) {\n",
       "    // Create a \"websocket\"-like object which calls the given IPython comm\n",
       "    // object with the appropriate methods. Currently this is a non binary\n",
       "    // socket, so there is still some room for performance tuning.\n",
       "    var ws = {};\n",
       "\n",
       "    ws.binaryType = comm.kernel.ws.binaryType;\n",
       "    ws.readyState = comm.kernel.ws.readyState;\n",
       "    function updateReadyState(_event) {\n",
       "        if (comm.kernel.ws) {\n",
       "            ws.readyState = comm.kernel.ws.readyState;\n",
       "        } else {\n",
       "            ws.readyState = 3; // Closed state.\n",
       "        }\n",
       "    }\n",
       "    comm.kernel.ws.addEventListener('open', updateReadyState);\n",
       "    comm.kernel.ws.addEventListener('close', updateReadyState);\n",
       "    comm.kernel.ws.addEventListener('error', updateReadyState);\n",
       "\n",
       "    ws.close = function () {\n",
       "        comm.close();\n",
       "    };\n",
       "    ws.send = function (m) {\n",
       "        //console.log('sending', m);\n",
       "        comm.send(m);\n",
       "    };\n",
       "    // Register the callback with on_msg.\n",
       "    comm.on_msg(function (msg) {\n",
       "        //console.log('receiving', msg['content']['data'], msg);\n",
       "        var data = msg['content']['data'];\n",
       "        if (data['blob'] !== undefined) {\n",
       "            data = {\n",
       "                data: new Blob(msg['buffers'], { type: data['blob'] }),\n",
       "            };\n",
       "        }\n",
       "        // Pass the mpl event to the overridden (by mpl) onmessage function.\n",
       "        ws.onmessage(data);\n",
       "    });\n",
       "    return ws;\n",
       "};\n",
       "\n",
       "mpl.mpl_figure_comm = function (comm, msg) {\n",
       "    // This is the function which gets called when the mpl process\n",
       "    // starts-up an IPython Comm through the \"matplotlib\" channel.\n",
       "\n",
       "    var id = msg.content.data.id;\n",
       "    // Get hold of the div created by the display call when the Comm\n",
       "    // socket was opened in Python.\n",
       "    var element = document.getElementById(id);\n",
       "    var ws_proxy = comm_websocket_adapter(comm);\n",
       "\n",
       "    function ondownload(figure, _format) {\n",
       "        window.open(figure.canvas.toDataURL());\n",
       "    }\n",
       "\n",
       "    var fig = new mpl.figure(id, ws_proxy, ondownload, element);\n",
       "\n",
       "    // Call onopen now - mpl needs it, as it is assuming we've passed it a real\n",
       "    // web socket which is closed, not our websocket->open comm proxy.\n",
       "    ws_proxy.onopen();\n",
       "\n",
       "    fig.parent_element = element;\n",
       "    fig.cell_info = mpl.find_output_cell(\"<div id='\" + id + \"'></div>\");\n",
       "    if (!fig.cell_info) {\n",
       "        console.error('Failed to find cell for figure', id, fig);\n",
       "        return;\n",
       "    }\n",
       "    fig.cell_info[0].output_area.element.on(\n",
       "        'cleared',\n",
       "        { fig: fig },\n",
       "        fig._remove_fig_handler\n",
       "    );\n",
       "};\n",
       "\n",
       "mpl.figure.prototype.handle_close = function (fig, msg) {\n",
       "    var width = fig.canvas.width / fig.ratio;\n",
       "    fig.cell_info[0].output_area.element.off(\n",
       "        'cleared',\n",
       "        fig._remove_fig_handler\n",
       "    );\n",
       "    fig.resizeObserverInstance.unobserve(fig.canvas_div);\n",
       "\n",
       "    // Update the output cell to use the data from the current canvas.\n",
       "    fig.push_to_output();\n",
       "    var dataURL = fig.canvas.toDataURL();\n",
       "    // Re-enable the keyboard manager in IPython - without this line, in FF,\n",
       "    // the notebook keyboard shortcuts fail.\n",
       "    IPython.keyboard_manager.enable();\n",
       "    fig.parent_element.innerHTML =\n",
       "        '<img src=\"' + dataURL + '\" width=\"' + width + '\">';\n",
       "    fig.close_ws(fig, msg);\n",
       "};\n",
       "\n",
       "mpl.figure.prototype.close_ws = function (fig, msg) {\n",
       "    fig.send_message('closing', msg);\n",
       "    // fig.ws.close()\n",
       "};\n",
       "\n",
       "mpl.figure.prototype.push_to_output = function (_remove_interactive) {\n",
       "    // Turn the data on the canvas into data in the output cell.\n",
       "    var width = this.canvas.width / this.ratio;\n",
       "    var dataURL = this.canvas.toDataURL();\n",
       "    this.cell_info[1]['text/html'] =\n",
       "        '<img src=\"' + dataURL + '\" width=\"' + width + '\">';\n",
       "};\n",
       "\n",
       "mpl.figure.prototype.updated_canvas_event = function () {\n",
       "    // Tell IPython that the notebook contents must change.\n",
       "    IPython.notebook.set_dirty(true);\n",
       "    this.send_message('ack', {});\n",
       "    var fig = this;\n",
       "    // Wait a second, then push the new image to the DOM so\n",
       "    // that it is saved nicely (might be nice to debounce this).\n",
       "    setTimeout(function () {\n",
       "        fig.push_to_output();\n",
       "    }, 1000);\n",
       "};\n",
       "\n",
       "mpl.figure.prototype._init_toolbar = function () {\n",
       "    var fig = this;\n",
       "\n",
       "    var toolbar = document.createElement('div');\n",
       "    toolbar.classList = 'btn-toolbar';\n",
       "    this.root.appendChild(toolbar);\n",
       "\n",
       "    function on_click_closure(name) {\n",
       "        return function (_event) {\n",
       "            return fig.toolbar_button_onclick(name);\n",
       "        };\n",
       "    }\n",
       "\n",
       "    function on_mouseover_closure(tooltip) {\n",
       "        return function (event) {\n",
       "            if (!event.currentTarget.disabled) {\n",
       "                return fig.toolbar_button_onmouseover(tooltip);\n",
       "            }\n",
       "        };\n",
       "    }\n",
       "\n",
       "    fig.buttons = {};\n",
       "    var buttonGroup = document.createElement('div');\n",
       "    buttonGroup.classList = 'btn-group';\n",
       "    var button;\n",
       "    for (var toolbar_ind in mpl.toolbar_items) {\n",
       "        var name = mpl.toolbar_items[toolbar_ind][0];\n",
       "        var tooltip = mpl.toolbar_items[toolbar_ind][1];\n",
       "        var image = mpl.toolbar_items[toolbar_ind][2];\n",
       "        var method_name = mpl.toolbar_items[toolbar_ind][3];\n",
       "\n",
       "        if (!name) {\n",
       "            /* Instead of a spacer, we start a new button group. */\n",
       "            if (buttonGroup.hasChildNodes()) {\n",
       "                toolbar.appendChild(buttonGroup);\n",
       "            }\n",
       "            buttonGroup = document.createElement('div');\n",
       "            buttonGroup.classList = 'btn-group';\n",
       "            continue;\n",
       "        }\n",
       "\n",
       "        button = fig.buttons[name] = document.createElement('button');\n",
       "        button.classList = 'btn btn-default';\n",
       "        button.href = '#';\n",
       "        button.title = name;\n",
       "        button.innerHTML = '<i class=\"fa ' + image + ' fa-lg\"></i>';\n",
       "        button.addEventListener('click', on_click_closure(method_name));\n",
       "        button.addEventListener('mouseover', on_mouseover_closure(tooltip));\n",
       "        buttonGroup.appendChild(button);\n",
       "    }\n",
       "\n",
       "    if (buttonGroup.hasChildNodes()) {\n",
       "        toolbar.appendChild(buttonGroup);\n",
       "    }\n",
       "\n",
       "    // Add the status bar.\n",
       "    var status_bar = document.createElement('span');\n",
       "    status_bar.classList = 'mpl-message pull-right';\n",
       "    toolbar.appendChild(status_bar);\n",
       "    this.message = status_bar;\n",
       "\n",
       "    // Add the close button to the window.\n",
       "    var buttongrp = document.createElement('div');\n",
       "    buttongrp.classList = 'btn-group inline pull-right';\n",
       "    button = document.createElement('button');\n",
       "    button.classList = 'btn btn-mini btn-primary';\n",
       "    button.href = '#';\n",
       "    button.title = 'Stop Interaction';\n",
       "    button.innerHTML = '<i class=\"fa fa-power-off icon-remove icon-large\"></i>';\n",
       "    button.addEventListener('click', function (_evt) {\n",
       "        fig.handle_close(fig, {});\n",
       "    });\n",
       "    button.addEventListener(\n",
       "        'mouseover',\n",
       "        on_mouseover_closure('Stop Interaction')\n",
       "    );\n",
       "    buttongrp.appendChild(button);\n",
       "    var titlebar = this.root.querySelector('.ui-dialog-titlebar');\n",
       "    titlebar.insertBefore(buttongrp, titlebar.firstChild);\n",
       "};\n",
       "\n",
       "mpl.figure.prototype._remove_fig_handler = function (event) {\n",
       "    var fig = event.data.fig;\n",
       "    if (event.target !== this) {\n",
       "        // Ignore bubbled events from children.\n",
       "        return;\n",
       "    }\n",
       "    fig.close_ws(fig, {});\n",
       "};\n",
       "\n",
       "mpl.figure.prototype._root_extra_style = function (el) {\n",
       "    el.style.boxSizing = 'content-box'; // override notebook setting of border-box.\n",
       "};\n",
       "\n",
       "mpl.figure.prototype._canvas_extra_style = function (el) {\n",
       "    // this is important to make the div 'focusable\n",
       "    el.setAttribute('tabindex', 0);\n",
       "    // reach out to IPython and tell the keyboard manager to turn it's self\n",
       "    // off when our div gets focus\n",
       "\n",
       "    // location in version 3\n",
       "    if (IPython.notebook.keyboard_manager) {\n",
       "        IPython.notebook.keyboard_manager.register_events(el);\n",
       "    } else {\n",
       "        // location in version 2\n",
       "        IPython.keyboard_manager.register_events(el);\n",
       "    }\n",
       "};\n",
       "\n",
       "mpl.figure.prototype._key_event_extra = function (event, _name) {\n",
       "    // Check for shift+enter\n",
       "    if (event.shiftKey && event.which === 13) {\n",
       "        this.canvas_div.blur();\n",
       "        // select the cell after this one\n",
       "        var index = IPython.notebook.find_cell_index(this.cell_info[0]);\n",
       "        IPython.notebook.select(index + 1);\n",
       "    }\n",
       "};\n",
       "\n",
       "mpl.figure.prototype.handle_save = function (fig, _msg) {\n",
       "    fig.ondownload(fig, null);\n",
       "};\n",
       "\n",
       "mpl.find_output_cell = function (html_output) {\n",
       "    // Return the cell and output element which can be found *uniquely* in the notebook.\n",
       "    // Note - this is a bit hacky, but it is done because the \"notebook_saving.Notebook\"\n",
       "    // IPython event is triggered only after the cells have been serialised, which for\n",
       "    // our purposes (turning an active figure into a static one), is too late.\n",
       "    var cells = IPython.notebook.get_cells();\n",
       "    var ncells = cells.length;\n",
       "    for (var i = 0; i < ncells; i++) {\n",
       "        var cell = cells[i];\n",
       "        if (cell.cell_type === 'code') {\n",
       "            for (var j = 0; j < cell.output_area.outputs.length; j++) {\n",
       "                var data = cell.output_area.outputs[j];\n",
       "                if (data.data) {\n",
       "                    // IPython >= 3 moved mimebundle to data attribute of output\n",
       "                    data = data.data;\n",
       "                }\n",
       "                if (data['text/html'] === html_output) {\n",
       "                    return [cell, data, j];\n",
       "                }\n",
       "            }\n",
       "        }\n",
       "    }\n",
       "};\n",
       "\n",
       "// Register the function which deals with the matplotlib target/channel.\n",
       "// The kernel may be null if the page has been refreshed.\n",
       "if (IPython.notebook.kernel !== null) {\n",
       "    IPython.notebook.kernel.comm_manager.register_target(\n",
       "        'matplotlib',\n",
       "        mpl.mpl_figure_comm\n",
       "    );\n",
       "}\n"
      ],
      "text/plain": [
       "<IPython.core.display.Javascript object>"
      ]
     },
     "metadata": {},
     "output_type": "display_data"
    },
    {
     "data": {
      "text/html": [
       "<img src=\"data:image/png;base64,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\" width=\"432\">"
      ],
      "text/plain": [
       "<IPython.core.display.HTML object>"
      ]
     },
     "metadata": {},
     "output_type": "display_data"
    }
   ],
   "source": [
    "%matplotlib notebook\n",
    "\n",
    "import matplotlib.pylab as pyl \n",
    "x = pyl.linspace(-20,20,100)  \n",
    "y = pyl.sin(x)/x     \n",
    "pyl.plot(x,y)\n",
    "pyl.show()"
   ]
  },
  {
   "cell_type": "code",
   "execution_count": 18,
   "metadata": {},
   "outputs": [
    {
     "data": {
      "image/png": "[encoded data removed]",
      "text/plain": [
       "<Figure size 432x288 with 1 Axes>"
      ]
     },
     "metadata": {
      "needs_background": "light"
     },
     "output_type": "display_data"
    }
   ],
   "source": [
    "x = np.linspace(1, 10, 11)\n",
    "y = x**2 \n",
    "\n",
    "fig, ax = plt.subplots() \n",
    "\n",
    "ax.plot(x, y);"
   ]
  },
  {
   "cell_type": "markdown",
   "metadata": {},
   "source": [
    "**NOT: Aynı anda birden fazla plot çizdireceksek; plot sayısı kadar axes'imiz tanımlı olmalı:**"
   ]
  },
  {
   "cell_type": "code",
   "execution_count": null,
   "metadata": {},
   "outputs": [],
   "source": [
    "f, (ax1, ax2) = plt.subplots(1, 2, sharey=True) \n",
    "# 2 plot için ax1 ve ax2 axeslerini tanımladık. \n",
    "# sharey parametresi ile y-eksenini ortak eksen yaptık.\n",
    "\n",
    "ax1.plot(x, y)\n",
    "\n",
    "ax1.set_title('Sharing Y axis')\n",
    "\n",
    "ax2.scatter(x, y);"
   ]
  },
  {
   "cell_type": "markdown",
   "metadata": {},
   "source": [
    "**veya ax'ları şu şekilde de tanımlayabiliriz.:**"
   ]
  },
  {
   "cell_type": "code",
   "execution_count": null,
   "metadata": {},
   "outputs": [],
   "source": [
    "f, ax = plt.subplots(1, 2, sharey=True)\n",
    "\n",
    "ax[0].plot(x, y) # axes'in 0. indeksi birinci axes'imiz\n",
    "ax[1].scatter(x, y)  # axes'in 1. indeksi ikinci axes'imiz."
   ]
  },
  {
   "cell_type": "markdown",
   "metadata": {},
   "source": [
    "### PoliceKillingUS.csv dataseti üzerinde görselleştirme yapalım:"
   ]
  },
  {
   "cell_type": "code",
   "execution_count": null,
   "metadata": {},
   "outputs": [],
   "source": [
    "# df0 = pd.read_csv('PoliceKillingsUS.csv', encoding=\"UTF-8\") # error!"
   ]
  },
  {
   "cell_type": "markdown",
   "metadata": {},
   "source": [
    "**Unicode decode error!!  (\"utf-8' codec can't decode\")**\n",
    "\n",
    "**Bu csv dosyası UTF-8'e uygun kodlanmamış!**"
   ]
  },
  {
   "cell_type": "markdown",
   "metadata": {
    "id": "e8QvPT9EgPvk"
   },
   "source": [
    "Always take a note of your dataset, and choose encoding accordingly, or else you might not be able to properly decode dataset into a Pandas DataFrame. Few of the common options include \"utf-8\", \"utf-16\", \"latin-1\", \"iso-8859-1\", \"iso-8859-15\" & \"cp1252\". Also ensure to mention complete PATH to your dataset, if it isn't in the same local directory as your IDE (Jupyter Notebook, for instance). If unaware of the PATH, run %pwd in an Input cell of Jupyter Notebook to fetch that information. For more detailed know-how on Jupyter Notebook, please refer to the [article](https://medium.com/@neuralnets/beginners-quick-guide-for-handling-issues-launching-jupyter-notebook-for-python-using-anaconda-8be3d57a209b) focusing entirely on that subject.<br>\n",
    "\n",
    "**Pandas read_csv() tricks you should know to speed up your data analysis**<br>\n",
    "[\"SOURCE 1](https://towardsdatascience.com/all-the-pandas-read-csv-you-should-know-to-speed-up-your-data-analysis-1e16fe1039f3)<br>\n",
    "[\"SOURCE 2](https://python.plainenglish.io/reading-data-with-pythons-pandas-2715ff925b1d)<br>\n",
    "[\"SOURCE 3](https://www.shanelynn.ie/python-pandas-read-csv-load-data-from-csv-files/)<br>\n",
    "[\"SOURCE 4](http://net-informations.com/ds/pda/csv.htm)<br>\n",
    "[\"SOURCE 5](https://blog.finxter.com/how-to-fix-unicodedecodeerror-when-reading-csv-file-in-pandas-with-python/)<br>\n",
    "\n",
    "\n",
    "**the most viable formats in which files tend to be encoded are mostly either of these:**\n",
    "- encoding=\"utf8\"\n",
    "- encoding=\"utf16\"\n",
    "- encoding=\"windows-1251\"\n",
    "- encoding=\"windows-1252\"\n",
    "- encoding='latin1' (also known as ISO-885901)\n",
    "- encoding='iso-8859-1' or \n",
    "- encoding='cp1252'"
   ]
  },
  {
   "cell_type": "code",
   "execution_count": 202,
   "metadata": {},
   "outputs": [
    {
     "data": {
      "text/html": [
       "<div>\n",
       "<style scoped>\n",
       "    .dataframe tbody tr th:only-of-type {\n",
       "        vertical-align: middle;\n",
       "    }\n",
       "\n",
       "    .dataframe tbody tr th {\n",
       "        vertical-align: top;\n",
       "    }\n",
       "\n",
       "    .dataframe thead th {\n",
       "        text-align: right;\n",
       "    }\n",
       "</style>\n",
       "<table border=\"1\" class=\"dataframe\">\n",
       "  <thead>\n",
       "    <tr style=\"text-align: right;\">\n",
       "      <th></th>\n",
       "      <th>id</th>\n",
       "      <th>name</th>\n",
       "      <th>date</th>\n",
       "      <th>manner_of_death</th>\n",
       "      <th>armed</th>\n",
       "      <th>age</th>\n",
       "      <th>gender</th>\n",
       "      <th>race</th>\n",
       "      <th>city</th>\n",
       "      <th>state</th>\n",
       "      <th>signs_of_mental_illness</th>\n",
       "      <th>threat_level</th>\n",
       "      <th>flee</th>\n",
       "      <th>body_camera</th>\n",
       "    </tr>\n",
       "  </thead>\n",
       "  <tbody>\n",
       "    <tr>\n",
       "      <th>0</th>\n",
       "      <td>3</td>\n",
       "      <td>Tim Elliot</td>\n",
       "      <td>02/01/15</td>\n",
       "      <td>shot</td>\n",
       "      <td>gun</td>\n",
       "      <td>53.0</td>\n",
       "      <td>M</td>\n",
       "      <td>A</td>\n",
       "      <td>Shelton</td>\n",
       "      <td>WA</td>\n",
       "      <td>True</td>\n",
       "      <td>attack</td>\n",
       "      <td>Not fleeing</td>\n",
       "      <td>False</td>\n",
       "    </tr>\n",
       "    <tr>\n",
       "      <th>1</th>\n",
       "      <td>4</td>\n",
       "      <td>Lewis Lee Lembke</td>\n",
       "      <td>02/01/15</td>\n",
       "      <td>shot</td>\n",
       "      <td>gun</td>\n",
       "      <td>47.0</td>\n",
       "      <td>M</td>\n",
       "      <td>W</td>\n",
       "      <td>Aloha</td>\n",
       "      <td>OR</td>\n",
       "      <td>False</td>\n",
       "      <td>attack</td>\n",
       "      <td>Not fleeing</td>\n",
       "      <td>False</td>\n",
       "    </tr>\n",
       "    <tr>\n",
       "      <th>2</th>\n",
       "      <td>5</td>\n",
       "      <td>John Paul Quintero</td>\n",
       "      <td>03/01/15</td>\n",
       "      <td>shot and Tasered</td>\n",
       "      <td>unarmed</td>\n",
       "      <td>23.0</td>\n",
       "      <td>M</td>\n",
       "      <td>H</td>\n",
       "      <td>Wichita</td>\n",
       "      <td>KS</td>\n",
       "      <td>False</td>\n",
       "      <td>other</td>\n",
       "      <td>Not fleeing</td>\n",
       "      <td>False</td>\n",
       "    </tr>\n",
       "    <tr>\n",
       "      <th>3</th>\n",
       "      <td>8</td>\n",
       "      <td>Matthew Hoffman</td>\n",
       "      <td>04/01/15</td>\n",
       "      <td>shot</td>\n",
       "      <td>toy weapon</td>\n",
       "      <td>32.0</td>\n",
       "      <td>M</td>\n",
       "      <td>W</td>\n",
       "      <td>San Francisco</td>\n",
       "      <td>CA</td>\n",
       "      <td>True</td>\n",
       "      <td>attack</td>\n",
       "      <td>Not fleeing</td>\n",
       "      <td>False</td>\n",
       "    </tr>\n",
       "    <tr>\n",
       "      <th>4</th>\n",
       "      <td>9</td>\n",
       "      <td>Michael Rodriguez</td>\n",
       "      <td>04/01/15</td>\n",
       "      <td>shot</td>\n",
       "      <td>nail gun</td>\n",
       "      <td>39.0</td>\n",
       "      <td>M</td>\n",
       "      <td>H</td>\n",
       "      <td>Evans</td>\n",
       "      <td>CO</td>\n",
       "      <td>False</td>\n",
       "      <td>attack</td>\n",
       "      <td>Not fleeing</td>\n",
       "      <td>False</td>\n",
       "    </tr>\n",
       "  </tbody>\n",
       "</table>\n",
       "</div>"
      ],
      "text/plain": [
       "   id                name      date   manner_of_death       armed   age  \\\n",
       "0   3          Tim Elliot  02/01/15              shot         gun  53.0   \n",
       "1   4    Lewis Lee Lembke  02/01/15              shot         gun  47.0   \n",
       "2   5  John Paul Quintero  03/01/15  shot and Tasered     unarmed  23.0   \n",
       "3   8     Matthew Hoffman  04/01/15              shot  toy weapon  32.0   \n",
       "4   9   Michael Rodriguez  04/01/15              shot    nail gun  39.0   \n",
       "\n",
       "  gender race           city state  signs_of_mental_illness threat_level  \\\n",
       "0      M    A        Shelton    WA                     True       attack   \n",
       "1      M    W          Aloha    OR                    False       attack   \n",
       "2      M    H        Wichita    KS                    False        other   \n",
       "3      M    W  San Francisco    CA                     True       attack   \n",
       "4      M    H          Evans    CO                    False       attack   \n",
       "\n",
       "          flee  body_camera  \n",
       "0  Not fleeing        False  \n",
       "1  Not fleeing        False  \n",
       "2  Not fleeing        False  \n",
       "3  Not fleeing        False  \n",
       "4  Not fleeing        False  "
      ]
     },
     "execution_count": 202,
     "metadata": {},
     "output_type": "execute_result"
    }
   ],
   "source": [
    "# Dosya windows-1252 encodinge uygun bir dataseti:\n",
    "\n",
    "df0 = pd.read_csv('PoliceKillingsUS.csv', encoding=\"windows-1252\")\n",
    "\n",
    "df=df0.copy()\n",
    "df.head()"
   ]
  },
  {
   "cell_type": "markdown",
   "metadata": {},
   "source": [
    "### \"race\" sütunu üzerinde plotlama yaparak ırkları inceleyelim:"
   ]
  },
  {
   "cell_type": "code",
   "execution_count": 203,
   "metadata": {},
   "outputs": [
    {
     "data": {
      "text/plain": [
       "array(['A', 'W', 'H', 'B', 'O', nan, 'N'], dtype=object)"
      ]
     },
     "execution_count": 203,
     "metadata": {},
     "output_type": "execute_result"
    }
   ],
   "source": [
    "# Bir kategorik sütunu incelerken yapılacak ilk iş;\n",
    " # onun unique değerlerine bakmak.\n",
    "\n",
    "df.race.unique()"
   ]
  },
  {
   "cell_type": "code",
   "execution_count": 204,
   "metadata": {},
   "outputs": [
    {
     "data": {
      "text/plain": [
       "(2535, 14)"
      ]
     },
     "execution_count": 204,
     "metadata": {},
     "output_type": "execute_result"
    }
   ],
   "source": [
    "df.shape"
   ]
  },
  {
   "cell_type": "code",
   "execution_count": 205,
   "metadata": {},
   "outputs": [
    {
     "data": {
      "text/plain": [
       "array(['A', 'W', 'H', 'B', 'O', 'N'], dtype=object)"
      ]
     },
     "execution_count": 205,
     "metadata": {},
     "output_type": "execute_result"
    }
   ],
   "source": [
    "# null değerleri düşürelim:\n",
    "\n",
    "df.dropna(inplace=True)\n",
    "df.race.unique()"
   ]
  },
  {
   "cell_type": "code",
   "execution_count": 206,
   "metadata": {},
   "outputs": [
    {
     "data": {
      "text/plain": [
       "(2254, 14)"
      ]
     },
     "execution_count": 206,
     "metadata": {},
     "output_type": "execute_result"
    }
   ],
   "source": [
    "df.shape"
   ]
  },
  {
   "cell_type": "code",
   "execution_count": 207,
   "metadata": {},
   "outputs": [
    {
     "data": {
      "text/plain": [
       "0"
      ]
     },
     "execution_count": 207,
     "metadata": {},
     "output_type": "execute_result"
    }
   ],
   "source": [
    "df.race.isnull().sum()"
   ]
  },
  {
   "cell_type": "code",
   "execution_count": 208,
   "metadata": {},
   "outputs": [
    {
     "data": {
      "text/plain": [
       "race\n",
       "A      36\n",
       "B     592\n",
       "H     401\n",
       "N      29\n",
       "O      28\n",
       "W    1168\n",
       "Name: race, dtype: int64"
      ]
     },
     "execution_count": 208,
     "metadata": {},
     "output_type": "execute_result"
    }
   ],
   "source": [
    "# race feature'ımdaki kategorik değerler datasetinde ne sıklıkla geçiyor?\n",
    "\n",
    "df.groupby(\"race\").race.count()"
   ]
  },
  {
   "cell_type": "code",
   "execution_count": 158,
   "metadata": {},
   "outputs": [
    {
     "data": {
      "text/plain": [
       "Index(['A', 'B', 'H', 'N', 'O', 'W'], dtype='object', name='race')"
      ]
     },
     "execution_count": 158,
     "metadata": {},
     "output_type": "execute_result"
    }
   ],
   "source": [
    "df.groupby(\"race\").race.count().index"
   ]
  },
  {
   "cell_type": "code",
   "execution_count": 50,
   "metadata": {},
   "outputs": [
    {
     "data": {
      "text/plain": [
       "array([  39,  618,  423,   31,   28, 1201], dtype=int64)"
      ]
     },
     "execution_count": 50,
     "metadata": {},
     "output_type": "execute_result"
    }
   ],
   "source": [
    "df.groupby(\"race\").race.count().values"
   ]
  },
  {
   "cell_type": "code",
   "execution_count": 51,
   "metadata": {},
   "outputs": [
    {
     "data": {
      "text/plain": [
       "array([  28,   31,   39,  423,  618, 1201], dtype=int64)"
      ]
     },
     "execution_count": 51,
     "metadata": {},
     "output_type": "execute_result"
    }
   ],
   "source": [
    "# value'ları sıralamak için:\n",
    "\n",
    "np.sort(df.groupby(\"race\").race.count().values, axis=0)"
   ]
  },
  {
   "cell_type": "markdown",
   "metadata": {},
   "source": [
    "**Not: Bir kategorik feature'ın hem kategorilerini hem de bu kategorilerin frekanslarını öğrenmek için value_counts() metodunu kullanırım:**"
   ]
  },
  {
   "cell_type": "code",
   "execution_count": 52,
   "metadata": {},
   "outputs": [
    {
     "data": {
      "text/plain": [
       "W    1201\n",
       "B     618\n",
       "H     423\n",
       "A      39\n",
       "N      31\n",
       "O      28\n",
       "Name: race, dtype: int64"
      ]
     },
     "execution_count": 52,
     "metadata": {},
     "output_type": "execute_result"
    }
   ],
   "source": [
    "df.race.value_counts()"
   ]
  },
  {
   "cell_type": "code",
   "execution_count": 54,
   "metadata": {},
   "outputs": [
    {
     "data": {
      "text/plain": [
       "Index(['W', 'B', 'H', 'A', 'N', 'O'], dtype='object')"
      ]
     },
     "execution_count": 54,
     "metadata": {},
     "output_type": "execute_result"
    }
   ],
   "source": [
    "df.race.value_counts().index"
   ]
  },
  {
   "cell_type": "code",
   "execution_count": null,
   "metadata": {},
   "outputs": [],
   "source": [
    "df.race.value_counts().values"
   ]
  },
  {
   "cell_type": "markdown",
   "metadata": {},
   "source": [
    "**NOT: Kategorik bir feature'ın kategorilerini ve bunların frekanslarını görmek için barplot kullanırım.**"
   ]
  },
  {
   "cell_type": "code",
   "execution_count": 60,
   "metadata": {
    "colab": {
     "base_uri": "https://localhost:8080/",
     "height": 283
    },
    "id": "KtJXC38R2Zi9",
    "outputId": "3ee73509-cefb-4e5e-e216-6e68ff63f015"
   },
   "outputs": [
    {
     "data": {
      "image/png": "[encoded data removed]",
      "text/plain": [
       "<Figure size 432x288 with 1 Axes>"
      ]
     },
     "metadata": {
      "needs_background": "light"
     },
     "output_type": "display_data"
    }
   ],
   "source": [
    "# object oriented yöntemde;\n",
    "# plotlama yapmak üzere axes objecti üzerine metodlar uyguluyoruz.\n",
    "\n",
    "fig, ax = plt.subplots()\n",
    "\n",
    "ax.bar(df.race.value_counts().index, df.race.value_counts().values)\n",
    "\n",
    "ax.set_title(\"Race Distribution\", fontsize=15);"
   ]
  },
  {
   "cell_type": "code",
   "execution_count": 61,
   "metadata": {},
   "outputs": [
    {
     "data": {
      "text/plain": [
       "Text(0.5, 1.0, 'figure_title-Race Dist.')"
      ]
     },
     "execution_count": 61,
     "metadata": {},
     "output_type": "execute_result"
    },
    {
     "data": {
      "image/png": "[encoded data removed]",
      "text/plain": [
       "<Figure size 432x288 with 1 Axes>"
      ]
     },
     "metadata": {
      "needs_background": "light"
     },
     "output_type": "display_data"
    }
   ],
   "source": [
    "# figure üzerine de bir başlık verebiliyoruz:\n",
    "\n",
    "fig, ax = plt.subplots()\n",
    "\n",
    "ax.bar(df.race.value_counts().index, df.race.value_counts().values)\n",
    "\n",
    "plt.title(\"figure_title-Race Dist.\")"
   ]
  },
  {
   "cell_type": "code",
   "execution_count": 336,
   "metadata": {},
   "outputs": [
    {
     "data": {
      "image/png": "[encoded data removed]",
      "text/plain": [
       "<Figure size 432x288 with 1 Axes>"
      ]
     },
     "metadata": {},
     "output_type": "display_data"
    }
   ],
   "source": [
    "# figure ve axes'i renklendirelim:\n",
    "\n",
    "fig, ax = plt.subplots()\n",
    "ax.bar(df.race.value_counts().index, df.race.value_counts().values)\n",
    "plt.title(\"figure_title-Race Dist.\")\n",
    "\n",
    "ax.set(facecolor = \"powderblue\")\n",
    "\n",
    "fig.set_facecolor('plum');"
   ]
  },
  {
   "cell_type": "markdown",
   "metadata": {},
   "source": [
    "## şimdi barların üzerine value'larını yazdıralım:"
   ]
  },
  {
   "cell_type": "code",
   "execution_count": 337,
   "metadata": {},
   "outputs": [
    {
     "data": {
      "image/png": "[encoded data removed]",
      "text/plain": [
       "<Figure size 432x288 with 1 Axes>"
      ]
     },
     "metadata": {},
     "output_type": "display_data"
    }
   ],
   "source": [
    "fig, ax = plt.subplots()\n",
    "ax.bar(df.race.value_counts().index, df.race.value_counts().values)\n",
    "ax.set_title(\"Race Distribution\", fontsize=15);\n",
    "\n",
    "for a in ax.patches:\n",
    "    ax.annotate((a.get_height()), (a.get_x()+0.35, a.get_height()+20));\n",
    "# annotate'in içine önce ilk parametre olarak text'i yazıyoruz. \n",
    "# 2. parametre ile bu text'in x ve y olarak yazdırılacağı konumu belirliyoruz.\n",
    "\n",
    "ax.set(facecolor = \"powderblue\") \n",
    "fig.set_facecolor('plum');"
   ]
  },
  {
   "cell_type": "code",
   "execution_count": 62,
   "metadata": {
    "colab": {
     "base_uri": "https://localhost:8080/"
    },
    "id": "dWAGITqHnLHy",
    "outputId": "71865420-a006-4117-9573-66e8fb281893"
   },
   "outputs": [
    {
     "data": {
      "text/plain": [
       "<Axes.ArtistList of 6 patches>"
      ]
     },
     "execution_count": 62,
     "metadata": {},
     "output_type": "execute_result"
    }
   ],
   "source": [
    "ax.patches\n",
    "# 6 kategoriye karşılık 6 tane patch var."
   ]
  },
  {
   "cell_type": "code",
   "execution_count": 64,
   "metadata": {
    "colab": {
     "base_uri": "https://localhost:8080/"
    },
    "id": "JQsROztbnLLD",
    "outputId": "541a5ce6-778e-4e5a-abeb-11d97b6ba34c"
   },
   "outputs": [
    {
     "data": {
      "text/plain": [
       "<matplotlib.patches.Rectangle at 0x24ec6049ac0>"
      ]
     },
     "execution_count": 64,
     "metadata": {},
     "output_type": "execute_result"
    }
   ],
   "source": [
    "ax.patches[0]"
   ]
  },
  {
   "cell_type": "code",
   "execution_count": 68,
   "metadata": {
    "colab": {
     "base_uri": "https://localhost:8080/"
    },
    "id": "iklwPaernLN2",
    "outputId": "806f0036-65d3-4ac7-b7b3-ac10e5b70e90"
   },
   "outputs": [
    {
     "data": {
      "text/plain": [
       "-0.4"
      ]
     },
     "execution_count": 68,
     "metadata": {},
     "output_type": "execute_result"
    }
   ],
   "source": [
    "ax.patches[0].get_x()"
   ]
  },
  {
   "cell_type": "code",
   "execution_count": 67,
   "metadata": {
    "colab": {
     "base_uri": "https://localhost:8080/"
    },
    "id": "eoJhzVygnLRo",
    "outputId": "c4dfc6b7-fa6f-4470-fb51-b2e32b7a7d4e"
   },
   "outputs": [
    {
     "data": {
      "text/plain": [
       "1201"
      ]
     },
     "execution_count": 67,
     "metadata": {},
     "output_type": "execute_result"
    }
   ],
   "source": [
    "ax.patches[0].get_height()"
   ]
  },
  {
   "cell_type": "code",
   "execution_count": 70,
   "metadata": {},
   "outputs": [
    {
     "data": {
      "text/plain": [
       "W    1201\n",
       "B     618\n",
       "H     423\n",
       "A      39\n",
       "N      31\n",
       "O      28\n",
       "Name: race, dtype: int64"
      ]
     },
     "execution_count": 70,
     "metadata": {},
     "output_type": "execute_result"
    }
   ],
   "source": [
    "df.race.value_counts()"
   ]
  },
  {
   "cell_type": "markdown",
   "metadata": {},
   "source": [
    "## pandas ile plotlayalım:  "
   ]
  },
  {
   "cell_type": "code",
   "execution_count": 338,
   "metadata": {
    "colab": {
     "base_uri": "https://localhost:8080/",
     "height": 282
    },
    "id": "9l_gl3On2Zi9",
    "outputId": "b95855c7-7317-49ae-c7d5-26eea80e73cd",
    "scrolled": false
   },
   "outputs": [
    {
     "data": {
      "image/png": "[encoded data removed]",
      "text/plain": [
       "<Figure size 432x288 with 1 Axes>"
      ]
     },
     "metadata": {},
     "output_type": "display_data"
    }
   ],
   "source": [
    "fig, ax = plt.subplots()\n",
    "\n",
    "# DataFrame'e veya onun bir Serie'sine plot metodu uyguluyoruz.\n",
    "df.race.value_counts().plot(kind='bar', ax=ax) \n",
    "\n",
    "ax.set_title(\"Gender Distribution\", fontsize=15)\n",
    "\n",
    "ax.set(facecolor = \"powderblue\") \n",
    "fig.set_facecolor('plum');"
   ]
  },
  {
   "cell_type": "markdown",
   "metadata": {},
   "source": [
    "### Barların üzerine value'ları yazırmada bar_label() metodu: "
   ]
  },
  {
   "cell_type": "code",
   "execution_count": 339,
   "metadata": {},
   "outputs": [
    {
     "data": {
      "image/png": "[encoded data removed]",
      "text/plain": [
       "<Figure size 432x288 with 1 Axes>"
      ]
     },
     "metadata": {},
     "output_type": "display_data"
    }
   ],
   "source": [
    "fig, ax = plt.subplots()\n",
    "df.race.value_counts().plot(kind='bar', ax=ax)\n",
    "ax.set_title(\"Gender Distribution\", \n",
    "             fontsize=15)\n",
    "\n",
    "\n",
    "ax.bar_label(ax.containers[0], color=\"red\", \n",
    "             size=10, \n",
    "             label_type=\"center\", \n",
    "            padding=10);\n",
    "\n",
    "ax.set(facecolor = \"powderblue\") \n",
    "fig.set_facecolor('plum');"
   ]
  },
  {
   "cell_type": "code",
   "execution_count": 340,
   "metadata": {},
   "outputs": [
    {
     "data": {
      "image/png": "[encoded data removed]",
      "text/plain": [
       "<Figure size 432x288 with 1 Axes>"
      ]
     },
     "metadata": {},
     "output_type": "display_data"
    }
   ],
   "source": [
    " # figure'ı oluştururken de renklendirebiliyoruz:\n",
    "    \n",
    "fig, ax = plt.subplots(facecolor=\"pink\")\n",
    "\n",
    "df.race.value_counts().plot(kind='bar', ax=ax)\n",
    "ax.set(facecolor = \"powderblue\") \n",
    "ax.set_title(\"Gender Distribution\", \n",
    "             fontsize=15, \n",
    "             color = \"darkmagenta\")\n",
    "ax.bar_label(ax.containers[0], color=\"red\", \n",
    "             size=10, \n",
    "             label_type=\"center\",  # ya da \"edge\"\n",
    "            padding=10);"
   ]
  },
  {
   "cell_type": "markdown",
   "metadata": {},
   "source": [
    "### functional metodla plot: "
   ]
  },
  {
   "cell_type": "code",
   "execution_count": 346,
   "metadata": {
    "colab": {
     "base_uri": "https://localhost:8080/",
     "height": 283
    },
    "id": "lH84-mPwnLU2",
    "outputId": "21c47271-9216-4742-a184-9576c446bcfd"
   },
   "outputs": [
    {
     "data": {
      "text/plain": [
       "Text(0.5, 1.0, 'Gender Distribution')"
      ]
     },
     "execution_count": 346,
     "metadata": {},
     "output_type": "execute_result"
    },
    {
     "data": {
      "image/png": "[encoded data removed]",
      "text/plain": [
       "<Figure size 576x432 with 1 Axes>"
      ]
     },
     "metadata": {},
     "output_type": "display_data"
    }
   ],
   "source": [
    "x = df.race.value_counts().index \n",
    "y = df.race.value_counts().values \n",
    "\n",
    "plt.figure(figsize=(8,6),facecolor=\"pink\")\n",
    "plt.bar(x, y)\n",
    "\n",
    "plt.title(\"Gender Distribution\", fontsize=15, c=\"blue\")"
   ]
  },
  {
   "cell_type": "code",
   "execution_count": 350,
   "metadata": {},
   "outputs": [
    {
     "data": {
      "image/png": "[encoded data removed]",
      "text/plain": [
       "<Figure size 576x432 with 1 Axes>"
      ]
     },
     "metadata": {},
     "output_type": "display_data"
    }
   ],
   "source": [
    "x = df.race.value_counts().index \n",
    "y = df.race.value_counts().values \n",
    "plt.figure(figsize=(8,6),facecolor=\"pink\") \n",
    "plt.bar(x, y)\n",
    "plt.title(\"Gender Distribution\", fontsize=15, c=\"blue\")\n",
    "\n",
    "for i in range(len(x)):\n",
    "    plt.text( x[i], y[i], str(y[i]), ha='center', va='bottom' )  # SHIFT TAB TAB !!"
   ]
  },
  {
   "cell_type": "markdown",
   "metadata": {
    "id": "R2uvAgQSgPvo"
   },
   "source": [
    "# \"Diamonds\" Dataset"
   ]
  },
  {
   "cell_type": "code",
   "execution_count": 147,
   "metadata": {},
   "outputs": [
    {
     "name": "stdout",
     "output_type": "stream",
     "text": [
      "['anagrams', 'anscombe', 'attention', 'brain_networks', 'car_crashes', 'diamonds', 'dots', 'dowjones', 'exercise', 'flights', 'fmri', 'geyser', 'glue', 'healthexp', 'iris', 'mpg', 'penguins', 'planets', 'seaice', 'taxis', 'tips', 'titanic']\n"
     ]
    }
   ],
   "source": [
    "#  print(sns.get_dataset_names())"
   ]
  },
  {
   "cell_type": "code",
   "execution_count": 5,
   "metadata": {},
   "outputs": [
    {
     "name": "stdout",
     "output_type": "stream",
     "text": [
      "<class 'pandas.core.frame.DataFrame'>\n",
      "RangeIndex: 53940 entries, 0 to 53939\n",
      "Data columns (total 10 columns):\n",
      " #   Column   Non-Null Count  Dtype   \n",
      "---  ------   --------------  -----   \n",
      " 0   carat    53940 non-null  float64 \n",
      " 1   cut      53940 non-null  category\n",
      " 2   color    53940 non-null  category\n",
      " 3   clarity  53940 non-null  category\n",
      " 4   depth    53940 non-null  float64 \n",
      " 5   table    53940 non-null  float64 \n",
      " 6   price    53940 non-null  int64   \n",
      " 7   x        53940 non-null  float64 \n",
      " 8   y        53940 non-null  float64 \n",
      " 9   z        53940 non-null  float64 \n",
      "dtypes: category(3), float64(6), int64(1)\n",
      "memory usage: 3.0 MB\n",
      "None\n"
     ]
    },
    {
     "data": {
      "text/html": [
       "<div>\n",
       "<style scoped>\n",
       "    .dataframe tbody tr th:only-of-type {\n",
       "        vertical-align: middle;\n",
       "    }\n",
       "\n",
       "    .dataframe tbody tr th {\n",
       "        vertical-align: top;\n",
       "    }\n",
       "\n",
       "    .dataframe thead th {\n",
       "        text-align: right;\n",
       "    }\n",
       "</style>\n",
       "<table border=\"1\" class=\"dataframe\">\n",
       "  <thead>\n",
       "    <tr style=\"text-align: right;\">\n",
       "      <th></th>\n",
       "      <th>carat</th>\n",
       "      <th>cut</th>\n",
       "      <th>color</th>\n",
       "      <th>clarity</th>\n",
       "      <th>depth</th>\n",
       "      <th>table</th>\n",
       "      <th>price</th>\n",
       "      <th>x</th>\n",
       "      <th>y</th>\n",
       "      <th>z</th>\n",
       "    </tr>\n",
       "  </thead>\n",
       "  <tbody>\n",
       "    <tr>\n",
       "      <th>53823</th>\n",
       "      <td>0.77</td>\n",
       "      <td>Ideal</td>\n",
       "      <td>I</td>\n",
       "      <td>VS1</td>\n",
       "      <td>60.9</td>\n",
       "      <td>57.0</td>\n",
       "      <td>2736</td>\n",
       "      <td>5.92</td>\n",
       "      <td>5.94</td>\n",
       "      <td>3.61</td>\n",
       "    </tr>\n",
       "    <tr>\n",
       "      <th>49426</th>\n",
       "      <td>0.70</td>\n",
       "      <td>Very Good</td>\n",
       "      <td>H</td>\n",
       "      <td>SI1</td>\n",
       "      <td>62.7</td>\n",
       "      <td>56.0</td>\n",
       "      <td>2107</td>\n",
       "      <td>5.60</td>\n",
       "      <td>5.62</td>\n",
       "      <td>3.52</td>\n",
       "    </tr>\n",
       "    <tr>\n",
       "      <th>42090</th>\n",
       "      <td>0.55</td>\n",
       "      <td>Ideal</td>\n",
       "      <td>E</td>\n",
       "      <td>SI2</td>\n",
       "      <td>62.0</td>\n",
       "      <td>56.0</td>\n",
       "      <td>1273</td>\n",
       "      <td>5.27</td>\n",
       "      <td>5.22</td>\n",
       "      <td>3.25</td>\n",
       "    </tr>\n",
       "    <tr>\n",
       "      <th>43326</th>\n",
       "      <td>0.50</td>\n",
       "      <td>Very Good</td>\n",
       "      <td>F</td>\n",
       "      <td>VS2</td>\n",
       "      <td>62.6</td>\n",
       "      <td>54.0</td>\n",
       "      <td>1404</td>\n",
       "      <td>5.10</td>\n",
       "      <td>5.13</td>\n",
       "      <td>3.20</td>\n",
       "    </tr>\n",
       "    <tr>\n",
       "      <th>46175</th>\n",
       "      <td>0.50</td>\n",
       "      <td>Premium</td>\n",
       "      <td>E</td>\n",
       "      <td>VS2</td>\n",
       "      <td>61.8</td>\n",
       "      <td>58.0</td>\n",
       "      <td>1746</td>\n",
       "      <td>5.11</td>\n",
       "      <td>5.05</td>\n",
       "      <td>3.14</td>\n",
       "    </tr>\n",
       "    <tr>\n",
       "      <th>29027</th>\n",
       "      <td>0.31</td>\n",
       "      <td>Ideal</td>\n",
       "      <td>H</td>\n",
       "      <td>VVS1</td>\n",
       "      <td>61.9</td>\n",
       "      <td>55.0</td>\n",
       "      <td>687</td>\n",
       "      <td>4.38</td>\n",
       "      <td>4.41</td>\n",
       "      <td>2.72</td>\n",
       "    </tr>\n",
       "    <tr>\n",
       "      <th>35605</th>\n",
       "      <td>0.31</td>\n",
       "      <td>Premium</td>\n",
       "      <td>H</td>\n",
       "      <td>VVS1</td>\n",
       "      <td>62.6</td>\n",
       "      <td>58.0</td>\n",
       "      <td>907</td>\n",
       "      <td>4.33</td>\n",
       "      <td>4.29</td>\n",
       "      <td>2.70</td>\n",
       "    </tr>\n",
       "    <tr>\n",
       "      <th>50270</th>\n",
       "      <td>0.64</td>\n",
       "      <td>Ideal</td>\n",
       "      <td>E</td>\n",
       "      <td>VS2</td>\n",
       "      <td>62.0</td>\n",
       "      <td>55.0</td>\n",
       "      <td>2238</td>\n",
       "      <td>5.52</td>\n",
       "      <td>5.55</td>\n",
       "      <td>3.43</td>\n",
       "    </tr>\n",
       "    <tr>\n",
       "      <th>5460</th>\n",
       "      <td>1.00</td>\n",
       "      <td>Fair</td>\n",
       "      <td>G</td>\n",
       "      <td>SI1</td>\n",
       "      <td>68.2</td>\n",
       "      <td>60.0</td>\n",
       "      <td>3833</td>\n",
       "      <td>6.02</td>\n",
       "      <td>5.94</td>\n",
       "      <td>4.08</td>\n",
       "    </tr>\n",
       "    <tr>\n",
       "      <th>12681</th>\n",
       "      <td>1.26</td>\n",
       "      <td>Ideal</td>\n",
       "      <td>J</td>\n",
       "      <td>VS2</td>\n",
       "      <td>63.2</td>\n",
       "      <td>57.0</td>\n",
       "      <td>5306</td>\n",
       "      <td>6.86</td>\n",
       "      <td>6.81</td>\n",
       "      <td>4.32</td>\n",
       "    </tr>\n",
       "  </tbody>\n",
       "</table>\n",
       "</div>"
      ],
      "text/plain": [
       "       carat        cut color clarity  depth  table  price     x     y     z\n",
       "53823   0.77      Ideal     I     VS1   60.9   57.0   2736  5.92  5.94  3.61\n",
       "49426   0.70  Very Good     H     SI1   62.7   56.0   2107  5.60  5.62  3.52\n",
       "42090   0.55      Ideal     E     SI2   62.0   56.0   1273  5.27  5.22  3.25\n",
       "43326   0.50  Very Good     F     VS2   62.6   54.0   1404  5.10  5.13  3.20\n",
       "46175   0.50    Premium     E     VS2   61.8   58.0   1746  5.11  5.05  3.14\n",
       "29027   0.31      Ideal     H    VVS1   61.9   55.0    687  4.38  4.41  2.72\n",
       "35605   0.31    Premium     H    VVS1   62.6   58.0    907  4.33  4.29  2.70\n",
       "50270   0.64      Ideal     E     VS2   62.0   55.0   2238  5.52  5.55  3.43\n",
       "5460    1.00       Fair     G     SI1   68.2   60.0   3833  6.02  5.94  4.08\n",
       "12681   1.26      Ideal     J     VS2   63.2   57.0   5306  6.86  6.81  4.32"
      ]
     },
     "execution_count": 5,
     "metadata": {},
     "output_type": "execute_result"
    }
   ],
   "source": [
    "df2 = sns.load_dataset(\"diamonds\")\n",
    "print(df2.info())\n",
    "df2.sample(10)"
   ]
  },
  {
   "cell_type": "markdown",
   "metadata": {},
   "source": [
    "**info about dataset**\n",
    "- **carat   :**Carat weight of the diamond\n",
    "- **cut     :**A diamond cut is a style or design guide used when shaping a diamond for polishing.\n",
    "- **depth % :**The height of a diamond, measured from the culet to the table, divided by its average girdle diameter\n",
    "- **table % :**The width of the diamond's table expressed as a percentage of its average diameter\n",
    "- **price   :**the price of the diamond\n",
    "- **x       :**length mm\n",
    "- **y       :**width mm\n",
    "- **z       :**higth mm"
   ]
  },
  {
   "cell_type": "code",
   "execution_count": 211,
   "metadata": {},
   "outputs": [
    {
     "data": {
      "text/plain": [
       "['Ideal', 'Premium', 'Good', 'Very Good', 'Fair']\n",
       "Categories (5, object): ['Ideal', 'Premium', 'Very Good', 'Good', 'Fair']"
      ]
     },
     "execution_count": 211,
     "metadata": {},
     "output_type": "execute_result"
    }
   ],
   "source": [
    "df2.cut.unique()"
   ]
  },
  {
   "cell_type": "markdown",
   "metadata": {},
   "source": [
    "### En nadir rastlanan 3 kesim (cut) kategorisini görselleştirelim: "
   ]
  },
  {
   "cell_type": "code",
   "execution_count": 212,
   "metadata": {},
   "outputs": [
    {
     "data": {
      "text/plain": [
       "Ideal        21551\n",
       "Premium      13791\n",
       "Very Good    12082\n",
       "Good          4906\n",
       "Fair          1610\n",
       "Name: cut, dtype: int64"
      ]
     },
     "execution_count": 212,
     "metadata": {},
     "output_type": "execute_result"
    }
   ],
   "source": [
    "df2.cut.value_counts()"
   ]
  },
  {
   "cell_type": "code",
   "execution_count": 213,
   "metadata": {},
   "outputs": [
    {
     "data": {
      "text/plain": [
       "Fair          1610\n",
       "Good          4906\n",
       "Very Good    12082\n",
       "Premium      13791\n",
       "Ideal        21551\n",
       "Name: cut, dtype: int64"
      ]
     },
     "execution_count": 213,
     "metadata": {},
     "output_type": "execute_result"
    }
   ],
   "source": [
    "df2.cut.value_counts(ascending=True)"
   ]
  },
  {
   "cell_type": "code",
   "execution_count": 214,
   "metadata": {},
   "outputs": [
    {
     "data": {
      "text/plain": [
       "Fair          1610\n",
       "Good          4906\n",
       "Very Good    12082\n",
       "Name: cut, dtype: int64"
      ]
     },
     "execution_count": 214,
     "metadata": {},
     "output_type": "execute_result"
    }
   ],
   "source": [
    "df2.cut.value_counts(ascending=True)[:3] "
   ]
  },
  {
   "cell_type": "code",
   "execution_count": 215,
   "metadata": {
    "colab": {
     "base_uri": "https://localhost:8080/"
    },
    "id": "BAU2H77b2Zi9",
    "outputId": "a6ca3b13-4a67-4a2f-8f3b-dd2e9c8e1d4b",
    "scrolled": true
   },
   "outputs": [
    {
     "data": {
      "text/plain": [
       "Fair          1610\n",
       "Good          4906\n",
       "Very Good    12082\n",
       "Name: cut, dtype: int64"
      ]
     },
     "execution_count": 215,
     "metadata": {},
     "output_type": "execute_result"
    }
   ],
   "source": [
    "least_common_cut = df2.cut.value_counts(ascending=True)[:3] \n",
    "least_common_cut"
   ]
  },
  {
   "cell_type": "code",
   "execution_count": 357,
   "metadata": {
    "colab": {
     "base_uri": "https://localhost:8080/",
     "height": 367
    },
    "id": "v6AvLOw82Zi-",
    "outputId": "d2ab70d2-52ef-4534-adb7-adc375ddec04"
   },
   "outputs": [
    {
     "data": {
      "image/png": "[encoded data removed]",
      "text/plain": [
       "<Figure size 576x360 with 1 Axes>"
      ]
     },
     "metadata": {
      "needs_background": "light"
     },
     "output_type": "display_data"
    }
   ],
   "source": [
    "# matplotlib'i kullanarak plotlayalım:\n",
    "\n",
    "fig, ax = plt.subplots(figsize=(8, 5)) \n",
    "# yatay ekseni girerken kategori sayısını gözönüne alıyorum.\n",
    "# kategori sayım az ise x eksenini küçük tutarım. \n",
    "\n",
    "ax.bar(x = least_common_cut.index, height=least_common_cut.values)\n",
    "\n",
    "ax.bar_label(ax.containers[0], \n",
    "             color=\"purple\", \n",
    "             size=10);\n",
    "# or:\n",
    "# for p in ax.patches:\n",
    "#     ax.annotate((p.get_height()), (p.get_x()+0.1, p.get_height()+10))"
   ]
  },
  {
   "cell_type": "code",
   "execution_count": null,
   "metadata": {},
   "outputs": [],
   "source": [
    "# least_common_cut'ın indeksleri otomatik olarak geldi.\n",
    "\n",
    "# Fakat set_xticklabels() metodunu kullanarak da getirebiliriz.\n",
    "\n",
    "fig, ax = plt.subplots(figsize=(8, 5)) \n",
    "ax.bar(x = least_common_cut.index, height=least_common_cut.values)\n",
    "\n",
    "ax.set_xticklabels(least_common_cut.index, rotation=60)\n",
    "\n",
    "ax.bar_label(ax.containers[0], \n",
    "             color=\"purple\", \n",
    "             size=10);"
   ]
  },
  {
   "cell_type": "markdown",
   "metadata": {},
   "source": [
    "### Pandas çözümü:"
   ]
  },
  {
   "cell_type": "code",
   "execution_count": 359,
   "metadata": {
    "colab": {
     "base_uri": "https://localhost:8080/",
     "height": 367
    },
    "id": "WznuMe522Zi-",
    "outputId": "99a262cc-3f6b-47b7-d0c4-07564c0f2525"
   },
   "outputs": [
    {
     "data": {
      "image/png": "[encoded data removed]",
      "text/plain": [
       "<Figure size 576x360 with 1 Axes>"
      ]
     },
     "metadata": {
      "needs_background": "light"
     },
     "output_type": "display_data"
    }
   ],
   "source": [
    "fig, ax = plt.subplots(figsize=(8, 5))\n",
    "\n",
    "least_common_cut.plot(kind='bar', ax=ax) \n",
    "\n",
    "# ax.set_xticklabels(least_common_cut.index, rotation=45)\n",
    "\n",
    "ax.bar_label(ax.containers[0], \n",
    "             color=\"purple\", \n",
    "             size=10);\n",
    "# or:\n",
    "# for p in ax.patches:\n",
    "#     ax.annotate((p.get_height()), (p.get_x()+0.1, p.get_height()+10))"
   ]
  },
  {
   "cell_type": "markdown",
   "metadata": {},
   "source": [
    "### Eğer veriyi oranlayarak mukayese etmek istersek:"
   ]
  },
  {
   "cell_type": "code",
   "execution_count": 217,
   "metadata": {},
   "outputs": [
    {
     "data": {
      "text/plain": [
       "Fair          2.984798\n",
       "Good          9.095291\n",
       "Very Good    22.398962\n",
       "Name: cut, dtype: float64"
      ]
     },
     "execution_count": 217,
     "metadata": {},
     "output_type": "execute_result"
    }
   ],
   "source": [
    "df2.cut.value_counts(ascending=True, normalize=True)[:3] * 100 "
   ]
  },
  {
   "cell_type": "markdown",
   "metadata": {},
   "source": [
    "**pie chart ile yüzde verilerini plotlayalım:**\n",
    "\n",
    "**value_counts()'tan gelen indeksleri pie chart'ın labelları yapacağız.**\n",
    "\n",
    "**value'larını ise \"x\" parametresine assign edeceğiz:**"
   ]
  },
  {
   "cell_type": "code",
   "execution_count": 220,
   "metadata": {},
   "outputs": [
    {
     "data": {
      "text/plain": [
       "CategoricalIndex(['Fair', 'Good', 'Very Good'], categories=['Ideal', 'Premium', 'Very Good', 'Good', 'Fair'], ordered=False, dtype='category')"
      ]
     },
     "execution_count": 220,
     "metadata": {},
     "output_type": "execute_result"
    }
   ],
   "source": [
    "kategoriler = df2.cut.value_counts(ascending=True)[:3].index\n",
    "kategoriler"
   ]
  },
  {
   "cell_type": "code",
   "execution_count": 221,
   "metadata": {},
   "outputs": [
    {
     "data": {
      "text/plain": [
       "Fair          2.984798\n",
       "Good          9.095291\n",
       "Very Good    22.398962\n",
       "Name: cut, dtype: float64"
      ]
     },
     "execution_count": 221,
     "metadata": {},
     "output_type": "execute_result"
    }
   ],
   "source": [
    "values = df2.cut.value_counts(ascending=True, normalize=True)[:3] * 100 \n",
    "values"
   ]
  },
  {
   "cell_type": "code",
   "execution_count": 222,
   "metadata": {},
   "outputs": [
    {
     "data": {
      "image/png": "[encoded data removed]",
      "text/plain": [
       "<Figure size 864x432 with 1 Axes>"
      ]
     },
     "metadata": {},
     "output_type": "display_data"
    }
   ],
   "source": [
    "fig, ax = plt.subplots(figsize = (12,6))\n",
    "ax.pie(x = values);"
   ]
  },
  {
   "cell_type": "code",
   "execution_count": 235,
   "metadata": {},
   "outputs": [
    {
     "data": {
      "image/png": "[encoded data removed]",
      "text/plain": [
       "<Figure size 864x576 with 1 Axes>"
      ]
     },
     "metadata": {},
     "output_type": "display_data"
    }
   ],
   "source": [
    "explode = (0.1, 0, 0)\n",
    "# toplam 3 değer var. 3 explode değeri girmemiz gerekir.\n",
    "# ki içlerinden hangi sıradakini explode edeceğini bilsin!\n",
    "\n",
    "fig, ax = plt.subplots(figsize = (12,8))\n",
    "ax.pie(x = values, explode=explode);"
   ]
  },
  {
   "cell_type": "code",
   "execution_count": 236,
   "metadata": {},
   "outputs": [
    {
     "data": {
      "image/png": "[encoded data removed]",
      "text/plain": [
       "<Figure size 864x576 with 1 Axes>"
      ]
     },
     "metadata": {},
     "output_type": "display_data"
    }
   ],
   "source": [
    "explode = (0.1, 0, 0) \n",
    "fig, ax = plt.subplots(figsize = (12,8))\n",
    "ax.pie(x = values, explode=explode,\n",
    "       labels=kategoriler); "
   ]
  },
  {
   "cell_type": "code",
   "execution_count": 242,
   "metadata": {},
   "outputs": [
    {
     "data": {
      "image/png": "[encoded data removed]",
      "text/plain": [
       "<Figure size 864x576 with 1 Axes>"
      ]
     },
     "metadata": {},
     "output_type": "display_data"
    }
   ],
   "source": [
    "explode = (0.1, 0, 0) \n",
    "fig, ax = plt.subplots(figsize = (12,8))\n",
    "ax.pie(x = values, explode=explode,\n",
    "       labels=kategoriler, \n",
    "       labeldistance=1.3,\n",
    "       autopct='%.1f%%'); "
   ]
  },
  {
   "cell_type": "code",
   "execution_count": 243,
   "metadata": {},
   "outputs": [
    {
     "data": {
      "image/png": "[encoded data removed]",
      "text/plain": [
       "<Figure size 864x576 with 1 Axes>"
      ]
     },
     "metadata": {},
     "output_type": "display_data"
    }
   ],
   "source": [
    "explode = (0.1, 0, 0) \n",
    "fig, ax = plt.subplots(figsize = (12,8))\n",
    "ax.pie(x = values, explode=explode,\n",
    "       labels=kategoriler, \n",
    "       labeldistance=1.3,\n",
    "       autopct='%.1f%%',\n",
    "       # textprops={'color':\"indigo\"}\n",
    "       startangle=90);"
   ]
  },
  {
   "cell_type": "code",
   "execution_count": 261,
   "metadata": {},
   "outputs": [
    {
     "data": {
      "image/png": "[encoded data removed]",
      "text/plain": [
       "<Figure size 864x576 with 1 Axes>"
      ]
     },
     "metadata": {},
     "output_type": "display_data"
    }
   ],
   "source": [
    "explode = (0.1, 0, 0) \n",
    "fig, ax = plt.subplots(figsize = (12,8))\n",
    "ax.pie(x = values, explode=explode,\n",
    "       labels=kategoriler, \n",
    "       labeldistance=1.3,\n",
    "       autopct='%.1f%%',\n",
    "       startangle=90,\n",
    "       textprops={'color':\"indigo\"},\n",
    "       \n",
    "       radius=1.4); "
   ]
  },
  {
   "cell_type": "markdown",
   "metadata": {},
   "source": [
    "## \"price\" sütununu 3 sınıfa kategorize ederek görselleştirme yapalım."
   ]
  },
  {
   "cell_type": "code",
   "execution_count": 6,
   "metadata": {},
   "outputs": [
    {
     "data": {
      "text/html": [
       "<div>\n",
       "<style scoped>\n",
       "    .dataframe tbody tr th:only-of-type {\n",
       "        vertical-align: middle;\n",
       "    }\n",
       "\n",
       "    .dataframe tbody tr th {\n",
       "        vertical-align: top;\n",
       "    }\n",
       "\n",
       "    .dataframe thead th {\n",
       "        text-align: right;\n",
       "    }\n",
       "</style>\n",
       "<table border=\"1\" class=\"dataframe\">\n",
       "  <thead>\n",
       "    <tr style=\"text-align: right;\">\n",
       "      <th></th>\n",
       "      <th>carat</th>\n",
       "      <th>cut</th>\n",
       "      <th>color</th>\n",
       "      <th>clarity</th>\n",
       "      <th>depth</th>\n",
       "      <th>table</th>\n",
       "      <th>price</th>\n",
       "      <th>x</th>\n",
       "      <th>y</th>\n",
       "      <th>z</th>\n",
       "    </tr>\n",
       "  </thead>\n",
       "  <tbody>\n",
       "    <tr>\n",
       "      <th>49794</th>\n",
       "      <td>0.53</td>\n",
       "      <td>Ideal</td>\n",
       "      <td>E</td>\n",
       "      <td>VS2</td>\n",
       "      <td>61.8</td>\n",
       "      <td>55.0</td>\n",
       "      <td>2163</td>\n",
       "      <td>5.21</td>\n",
       "      <td>5.24</td>\n",
       "      <td>3.23</td>\n",
       "    </tr>\n",
       "    <tr>\n",
       "      <th>11645</th>\n",
       "      <td>1.14</td>\n",
       "      <td>Very Good</td>\n",
       "      <td>H</td>\n",
       "      <td>VS2</td>\n",
       "      <td>59.9</td>\n",
       "      <td>57.0</td>\n",
       "      <td>5053</td>\n",
       "      <td>6.78</td>\n",
       "      <td>6.81</td>\n",
       "      <td>4.07</td>\n",
       "    </tr>\n",
       "    <tr>\n",
       "      <th>12932</th>\n",
       "      <td>1.02</td>\n",
       "      <td>Very Good</td>\n",
       "      <td>H</td>\n",
       "      <td>VS2</td>\n",
       "      <td>62.4</td>\n",
       "      <td>57.0</td>\n",
       "      <td>5383</td>\n",
       "      <td>6.43</td>\n",
       "      <td>6.35</td>\n",
       "      <td>3.99</td>\n",
       "    </tr>\n",
       "    <tr>\n",
       "      <th>46596</th>\n",
       "      <td>0.54</td>\n",
       "      <td>Ideal</td>\n",
       "      <td>F</td>\n",
       "      <td>VS2</td>\n",
       "      <td>62.2</td>\n",
       "      <td>57.0</td>\n",
       "      <td>1786</td>\n",
       "      <td>5.24</td>\n",
       "      <td>5.21</td>\n",
       "      <td>3.25</td>\n",
       "    </tr>\n",
       "    <tr>\n",
       "      <th>13280</th>\n",
       "      <td>1.12</td>\n",
       "      <td>Fair</td>\n",
       "      <td>G</td>\n",
       "      <td>VS1</td>\n",
       "      <td>64.8</td>\n",
       "      <td>56.0</td>\n",
       "      <td>5487</td>\n",
       "      <td>6.48</td>\n",
       "      <td>6.52</td>\n",
       "      <td>4.21</td>\n",
       "    </tr>\n",
       "    <tr>\n",
       "      <th>10123</th>\n",
       "      <td>1.01</td>\n",
       "      <td>Good</td>\n",
       "      <td>D</td>\n",
       "      <td>SI2</td>\n",
       "      <td>63.6</td>\n",
       "      <td>57.0</td>\n",
       "      <td>4719</td>\n",
       "      <td>6.35</td>\n",
       "      <td>6.39</td>\n",
       "      <td>4.05</td>\n",
       "    </tr>\n",
       "    <tr>\n",
       "      <th>50035</th>\n",
       "      <td>0.71</td>\n",
       "      <td>Very Good</td>\n",
       "      <td>F</td>\n",
       "      <td>SI1</td>\n",
       "      <td>63.2</td>\n",
       "      <td>56.0</td>\n",
       "      <td>2198</td>\n",
       "      <td>5.66</td>\n",
       "      <td>5.61</td>\n",
       "      <td>3.56</td>\n",
       "    </tr>\n",
       "    <tr>\n",
       "      <th>17155</th>\n",
       "      <td>1.09</td>\n",
       "      <td>Ideal</td>\n",
       "      <td>E</td>\n",
       "      <td>SI1</td>\n",
       "      <td>61.8</td>\n",
       "      <td>55.0</td>\n",
       "      <td>6849</td>\n",
       "      <td>6.65</td>\n",
       "      <td>6.58</td>\n",
       "      <td>4.09</td>\n",
       "    </tr>\n",
       "    <tr>\n",
       "      <th>44145</th>\n",
       "      <td>0.50</td>\n",
       "      <td>Premium</td>\n",
       "      <td>E</td>\n",
       "      <td>SI1</td>\n",
       "      <td>61.0</td>\n",
       "      <td>61.0</td>\n",
       "      <td>1562</td>\n",
       "      <td>5.11</td>\n",
       "      <td>5.09</td>\n",
       "      <td>3.11</td>\n",
       "    </tr>\n",
       "    <tr>\n",
       "      <th>28264</th>\n",
       "      <td>0.23</td>\n",
       "      <td>Good</td>\n",
       "      <td>F</td>\n",
       "      <td>VS2</td>\n",
       "      <td>63.8</td>\n",
       "      <td>57.0</td>\n",
       "      <td>357</td>\n",
       "      <td>3.93</td>\n",
       "      <td>3.84</td>\n",
       "      <td>2.48</td>\n",
       "    </tr>\n",
       "  </tbody>\n",
       "</table>\n",
       "</div>"
      ],
      "text/plain": [
       "       carat        cut color clarity  depth  table  price     x     y     z\n",
       "49794   0.53      Ideal     E     VS2   61.8   55.0   2163  5.21  5.24  3.23\n",
       "11645   1.14  Very Good     H     VS2   59.9   57.0   5053  6.78  6.81  4.07\n",
       "12932   1.02  Very Good     H     VS2   62.4   57.0   5383  6.43  6.35  3.99\n",
       "46596   0.54      Ideal     F     VS2   62.2   57.0   1786  5.24  5.21  3.25\n",
       "13280   1.12       Fair     G     VS1   64.8   56.0   5487  6.48  6.52  4.21\n",
       "10123   1.01       Good     D     SI2   63.6   57.0   4719  6.35  6.39  4.05\n",
       "50035   0.71  Very Good     F     SI1   63.2   56.0   2198  5.66  5.61  3.56\n",
       "17155   1.09      Ideal     E     SI1   61.8   55.0   6849  6.65  6.58  4.09\n",
       "44145   0.50    Premium     E     SI1   61.0   61.0   1562  5.11  5.09  3.11\n",
       "28264   0.23       Good     F     VS2   63.8   57.0    357  3.93  3.84  2.48"
      ]
     },
     "execution_count": 6,
     "metadata": {},
     "output_type": "execute_result"
    }
   ],
   "source": [
    "df2.sample(10)"
   ]
  },
  {
   "cell_type": "code",
   "execution_count": 312,
   "metadata": {},
   "outputs": [
    {
     "data": {
      "image/png": "[encoded data removed]",
      "text/plain": [
       "<Figure size 432x288 with 1 Axes>"
      ]
     },
     "metadata": {
      "needs_background": "light"
     },
     "output_type": "display_data"
    }
   ],
   "source": [
    "# matplotlib ile:\n",
    "\n",
    "plt.boxplot(df2.price, vert=False);  # vert=False !"
   ]
  },
  {
   "cell_type": "code",
   "execution_count": 310,
   "metadata": {},
   "outputs": [
    {
     "data": {
      "image/png": "[encoded data removed]",
      "text/plain": [
       "<Figure size 432x576 with 1 Axes>"
      ]
     },
     "metadata": {
      "needs_background": "light"
     },
     "output_type": "display_data"
    }
   ],
   "source": [
    "# pandas ile:\n",
    "\n",
    "fig, ax = plt.subplots()\n",
    "ax = df2.price.plot(kind = \"box\",\n",
    "               colormap = \"coolwarm\",            \n",
    "               figsize = (6, 8), rot=45);"
   ]
  },
  {
   "cell_type": "code",
   "execution_count": 305,
   "metadata": {},
   "outputs": [
    {
     "data": {
      "image/png": "[encoded data removed]",
      "text/plain": [
       "<Figure size 432x576 with 1 Axes>"
      ]
     },
     "metadata": {
      "needs_background": "light"
     },
     "output_type": "display_data"
    }
   ],
   "source": [
    "# Tek bir plotlama yapacağımızdan subplots() ile axes tanımlamaya gerek yok.\n",
    "\n",
    "df2.price.plot(kind = \"box\",\n",
    "               colormap = \"coolwarm\",            \n",
    "               figsize = (6, 8));"
   ]
  },
  {
   "cell_type": "code",
   "execution_count": 276,
   "metadata": {},
   "outputs": [
    {
     "data": {
      "image/png": "[encoded data removed]",
      "text/plain": [
       "<Figure size 432x288 with 1 Axes>"
      ]
     },
     "metadata": {
      "needs_background": "light"
     },
     "output_type": "display_data"
    }
   ],
   "source": [
    "plt.hist(df2.price, bins=7);"
   ]
  },
  {
   "cell_type": "code",
   "execution_count": 324,
   "metadata": {},
   "outputs": [
    {
     "data": {
      "text/plain": [
       "0.00      326.00\n",
       "0.25      950.00\n",
       "0.50     2401.00\n",
       "0.75     5324.25\n",
       "1.00    18823.00\n",
       "Name: price, dtype: float64"
      ]
     },
     "execution_count": 324,
     "metadata": {},
     "output_type": "execute_result"
    }
   ],
   "source": [
    "# veriyi nerelerden 3'e böleceğimi belirlemek için: \n",
    "\n",
    "df2.price.quantile([0, 0.25,0.5, 0.75, 1])"
   ]
  },
  {
   "cell_type": "code",
   "execution_count": 325,
   "metadata": {
    "id": "1zfmB3FS2Zi-"
   },
   "outputs": [],
   "source": [
    "df2[\"price_cat\"] = df2.price.apply(lambda x : \"high\" if x >=5324 else (\"medium\" if x >950 and x <= 5324 else \"low\"))"
   ]
  },
  {
   "cell_type": "code",
   "execution_count": 326,
   "metadata": {},
   "outputs": [
    {
     "data": {
      "text/plain": [
       "medium    26960\n",
       "low       13490\n",
       "high      13490\n",
       "Name: price_cat, dtype: int64"
      ]
     },
     "execution_count": 326,
     "metadata": {},
     "output_type": "execute_result"
    }
   ],
   "source": [
    "df2.price_cat.value_counts()"
   ]
  },
  {
   "cell_type": "code",
   "execution_count": 327,
   "metadata": {
    "colab": {
     "base_uri": "https://localhost:8080/"
    },
    "id": "fSQ8BTUD2Zi_",
    "outputId": "f26c3efd-9b2f-4fe8-d1a3-23e8d57cf613"
   },
   "outputs": [
    {
     "data": {
      "text/plain": [
       "medium    26960\n",
       "low       13490\n",
       "high      13490\n",
       "Name: price_cat, dtype: int64"
      ]
     },
     "execution_count": 327,
     "metadata": {},
     "output_type": "execute_result"
    }
   ],
   "source": [
    "price_class = df2.price_cat.value_counts()\n",
    "price_class"
   ]
  },
  {
   "cell_type": "code",
   "execution_count": 330,
   "metadata": {
    "colab": {
     "base_uri": "https://localhost:8080/",
     "height": 298
    },
    "id": "O5TT5DGG2Zi_",
    "outputId": "d58bd328-2c35-4442-ca7b-cf39185b5174"
   },
   "outputs": [
    {
     "data": {
      "image/png": "[encoded data removed]",
      "text/plain": [
       "<Figure size 432x288 with 1 Axes>"
      ]
     },
     "metadata": {
      "needs_background": "light"
     },
     "output_type": "display_data"
    }
   ],
   "source": [
    "# Pandas ile:\n",
    "\n",
    "ax = price_class.plot.bar()\n",
    "\n",
    "ax.bar_label(ax.containers[0], color=\"purple\", \n",
    "             size=10);\n",
    "\n",
    "# or:\n",
    "# for p in ax.patches:\n",
    "#     ax.annotate(round(p.get_height()), (p.get_x()+0.35, p.get_height()+10));"
   ]
  },
  {
   "cell_type": "code",
   "execution_count": 334,
   "metadata": {},
   "outputs": [
    {
     "data": {
      "image/png": "[encoded data removed]",
      "text/plain": [
       "<Figure size 432x288 with 1 Axes>"
      ]
     },
     "metadata": {
      "needs_background": "light"
     },
     "output_type": "display_data"
    }
   ],
   "source": [
    "ax = price_class.plot.bar()\n",
    "\n",
    "ax.set_xticklabels(price_class.index, \n",
    "                   rotation = 45)\n",
    "\n",
    "ax.bar_label(ax.containers[0], color=\"purple\", \n",
    "             size=10);"
   ]
  },
  {
   "cell_type": "code",
   "execution_count": 335,
   "metadata": {
    "colab": {
     "base_uri": "https://localhost:8080/",
     "height": 265
    },
    "id": "gpOukiYx2Zi_",
    "outputId": "e2659872-bae4-4127-918a-2d547935ad60"
   },
   "outputs": [
    {
     "data": {
      "image/png": "[encoded data removed]",
      "text/plain": [
       "<Figure size 432x288 with 1 Axes>"
      ]
     },
     "metadata": {
      "needs_background": "light"
     },
     "output_type": "display_data"
    }
   ],
   "source": [
    "# Matplotlib ile:\n",
    "\n",
    "fig, ax = plt.subplots()\n",
    "ax.bar(x = price_class.index, height=price_class.values)\n",
    "\n",
    "ax.bar_label(ax.containers[0], color=\"purple\", \n",
    "             size=10);\n",
    "\n",
    "# or:\n",
    "# for p in ax.patches:\n",
    "#     ax.annotate(round(p.get_height()), (p.get_x()+0.35, p.get_height()+10));"
   ]
  },
  {
   "cell_type": "markdown",
   "metadata": {
    "id": "k4l3kjCdtPsY"
   },
   "source": [
    "## <p style=\"background-color:#9d4f8c; font-family:newtimeroman; color:#FFF9ED; font-size:150%; text-align:center; border-radius:10px 10px;\">İYİ ÇALIŞMALAR</p>"
   ]
  }
 ],
 "metadata": {
  "colab": {
   "collapsed_sections": [
    "SZ-wps772Zi_",
    "9pGSRTxe-l5B"
   ],
   "name": "DVwPy_Assignment-1 (PoliceKillingUS-Matplotlib)_Solution.ipynb",
   "provenance": []
  },
  "kernelspec": {
   "display_name": "Python 3 (ipykernel)",
   "language": "python",
   "name": "python3"
  },
  "language_info": {
   "codemirror_mode": {
    "name": "ipython",
    "version": 3
   },
   "file_extension": ".py",
   "mimetype": "text/x-python",
   "name": "python",
   "nbconvert_exporter": "python",
   "pygments_lexer": "ipython3",
   "version": "3.9.12"
  }
 },
 "nbformat": 4,
 "nbformat_minor": 1
}
