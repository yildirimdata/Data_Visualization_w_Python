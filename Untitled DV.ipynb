{
 "cells": [
  {
   "cell_type": "code",
   "execution_count": 2,
   "id": "e9d29c46-3c9f-4d8c-83c9-5d1a9eb6a9c9",
   "metadata": {},
   "outputs": [],
   "source": [
    "from matplotlib import pyplot as plt\n",
    "import seaborn as sns\n",
    "import numpy as np\n",
    "import pandas as pd"
   ]
  },
  {
   "cell_type": "code",
   "execution_count": 2,
   "id": "49e6fd5f-62bc-4f1c-abe1-eac770fddc13",
   "metadata": {},
   "outputs": [
    {
     "data": {
      "text/plain": [
       "Index(['total_bill', 'tip', 'sex', 'smoker', 'day', 'time', 'size'], dtype='object')"
      ]
     },
     "execution_count": 2,
     "metadata": {},
     "output_type": "execute_result"
    }
   ],
   "source": [
    "tips = sns.load_dataset(\"tips\")\n",
    "tips.columns"
   ]
  },
  {
   "cell_type": "code",
   "execution_count": 11,
   "id": "fbfe3416-f3bd-4511-92ef-10869e665aa3",
   "metadata": {},
   "outputs": [
    {
     "data": {
      "text/plain": [
       "Index(['species', 'island', 'bill_length_mm', 'bill_depth_mm',\n",
       "       'flipper_length_mm', 'body_mass_g', 'sex'],\n",
       "      dtype='object')"
      ]
     },
     "execution_count": 11,
     "metadata": {},
     "output_type": "execute_result"
    }
   ],
   "source": [
    "penguins = sns.load_dataset(\"penguins\")\n",
    "penguins.columns"
   ]
  },
  {
   "cell_type": "code",
   "execution_count": 1,
   "id": "f13f17d5-3406-400f-b64d-e6b6a0a3a72f",
   "metadata": {},
   "outputs": [
    {
     "data": {
      "text/plain": [
       "array([3, 3, 3])"
      ]
     },
     "execution_count": 1,
     "metadata": {},
     "output_type": "execute_result"
    }
   ],
   "source": [
    "import numpy as np\n",
    "a = np.array([1,1,1])\n",
    "b = np.array([2])\n",
    "\n",
    "a+b"
   ]
  },
  {
   "cell_type": "code",
   "execution_count": 2,
   "id": "f75a0da4-915a-40a1-8774-29f8e2b49255",
   "metadata": {},
   "outputs": [
    {
     "data": {
      "text/plain": [
       "'VBO'"
      ]
     },
     "execution_count": 2,
     "metadata": {},
     "output_type": "execute_result"
    }
   ],
   "source": [
    "from functools import reduce\n",
    "A = [\"Veri\",\"Bilimi\",\"Okulu\"]\n",
    "reduce(lambda a,b: a+b, list(map(lambda x: x[0], A)))"
   ]
  },
  {
   "cell_type": "code",
   "execution_count": 3,
   "id": "520c5d15-a3db-441c-a940-2c90b6479d00",
   "metadata": {},
   "outputs": [
    {
     "data": {
      "text/plain": [
       "'a4a'"
      ]
     },
     "execution_count": 3,
     "metadata": {},
     "output_type": "execute_result"
    }
   ],
   "source": [
    "reduce(lambda a,b: a+b, [\"a\",\"4\",\"a\"])"
   ]
  },
  {
   "cell_type": "code",
   "execution_count": 4,
   "id": "f139e909-b0f1-467b-8390-8d4f60f05d6f",
   "metadata": {},
   "outputs": [
    {
     "data": {
      "text/plain": [
       "[2, 7, 4]"
      ]
     },
     "execution_count": 4,
     "metadata": {},
     "output_type": "execute_result"
    }
   ],
   "source": [
    "list(map(lambda x: x*1, [2,7,4]))"
   ]
  },
  {
   "cell_type": "code",
   "execution_count": 5,
   "id": "3bfd1803-8131-41d1-9259-b716b8515808",
   "metadata": {},
   "outputs": [
    {
     "name": "stdout",
     "output_type": "stream",
     "text": [
      "['ali hi', 'veli hi', 'isik hi']\n"
     ]
    }
   ],
   "source": [
    "A = [\"ali\",\"veli\",\"isik\"]\n",
    "B = [1,2,3]\n",
    "AB = [A, B]\n",
    "\n",
    "for i in AB:\n",
    "    if type(i[0]) == str:\n",
    "        print(list(map(lambda x: x + \" hi\", i)))"
   ]
  },
  {
   "cell_type": "code",
   "execution_count": 6,
   "id": "127f3643-fb1c-4f43-b256-300a7a6d3cd7",
   "metadata": {},
   "outputs": [
    {
     "name": "stdout",
     "output_type": "stream",
     "text": [
      "[1.0, 2.0, 3.0, 4.0, 5.0]\n"
     ]
    }
   ],
   "source": [
    "A = [1,2,3,4,5]\n",
    "\n",
    "if type(A) == ():\n",
    "    print(\"islem gecersiz\")\n",
    "else:\n",
    "    print(list(map(lambda x: x/1, A)))"
   ]
  },
  {
   "cell_type": "code",
   "execution_count": 7,
   "id": "e2e3d932-15b6-4714-82c5-3bab6862c574",
   "metadata": {},
   "outputs": [
    {
     "data": {
      "text/plain": [
       "24"
      ]
     },
     "execution_count": 7,
     "metadata": {},
     "output_type": "execute_result"
    }
   ],
   "source": [
    "a = [1,2,3,4]\n",
    "reduce(lambda a,b: a*b, a)"
   ]
  },
  {
   "cell_type": "code",
   "execution_count": 8,
   "id": "65590f25-a2de-4d94-bc0d-5b2af2cbc570",
   "metadata": {},
   "outputs": [
    {
     "data": {
      "text/plain": [
       "[3, 9, 15]"
      ]
     },
     "execution_count": 8,
     "metadata": {},
     "output_type": "execute_result"
    }
   ],
   "source": [
    "A = [[1,2],[3,4],[5,6]]\n",
    "list(map(lambda x: x[0]*3, A))"
   ]
  },
  {
   "cell_type": "code",
   "execution_count": null,
   "id": "4313e3eb-7e76-4603-ba4f-1222c6695485",
   "metadata": {},
   "outputs": [],
   "source": []
  }
 ],
 "metadata": {
  "kernelspec": {
   "display_name": "Python 3 (ipykernel)",
   "language": "python",
   "name": "python3"
  },
  "language_info": {
   "codemirror_mode": {
    "name": "ipython",
    "version": 3
   },
   "file_extension": ".py",
   "mimetype": "text/x-python",
   "name": "python",
   "nbconvert_exporter": "python",
   "pygments_lexer": "ipython3",
   "version": "3.9.12"
  }
 },
 "nbformat": 4,
 "nbformat_minor": 5
}
